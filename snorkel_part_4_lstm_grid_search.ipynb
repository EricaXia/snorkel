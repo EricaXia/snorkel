{
 "cells": [
  {
   "cell_type": "markdown",
   "metadata": {},
   "source": [
    "# Virus-Host Species Relation Extraction\n",
    "## Notebook 4\n",
    "### UC Davis Epicenter for Disease Dynamics"
   ]
  },
  {
   "cell_type": "code",
   "execution_count": 6,
   "metadata": {},
   "outputs": [
    {
     "name": "stdout",
     "output_type": "stream",
     "text": [
      "The autoreload extension is already loaded. To reload it, use:\n",
      "  %reload_ext autoreload\n"
     ]
    }
   ],
   "source": [
    "%load_ext autoreload\n",
    "%autoreload 2\n",
    "%matplotlib inline\n",
    "import os\n",
    "import re\n",
    "import numpy as np\n",
    "from snorkel import SnorkelSession\n",
    "import pandas as pd\n",
    "session = SnorkelSession()\n",
    "# Connect to the database backend and initalize a Snorkel session\n",
    "\n",
    "#from lib.init import *\n",
    "from snorkel.models import candidate_subclass\n",
    "from snorkel.annotations import load_gold_labels\n",
    "\n",
    "from snorkel.lf_helpers import (\n",
    "    get_left_tokens, get_right_tokens, get_between_tokens,\n",
    "    get_text_between, get_tagged_text,\n",
    ")\n",
    "\n",
    "VirusHost = candidate_subclass('VirusHost', ['virus', 'host'])"
   ]
  },
  {
   "cell_type": "code",
   "execution_count": 7,
   "metadata": {},
   "outputs": [],
   "source": [
    "from snorkel.annotations import load_marginals\n",
    "\n",
    "train_cands = session.query(VirusHost).filter(VirusHost.split == 0).order_by(VirusHost.id).all()\n",
    "dev_cands   = session.query(VirusHost).filter(VirusHost.split == 1).order_by(VirusHost.id).all()\n",
    "test_cands  = session.query(VirusHost).filter(VirusHost.split == 2).order_by(VirusHost.id).all()\n",
    "\n",
    "L_gold_dev  = load_gold_labels(session, annotator_name='gold', split=1, load_as_array=True)\n",
    "\n",
    "train_marginals = load_marginals(session, split=0)"
   ]
  },
  {
   "cell_type": "code",
   "execution_count": 8,
   "metadata": {},
   "outputs": [
    {
     "name": "stdout",
     "output_type": "stream",
     "text": [
      "AnnotatorLabels created: 0\n"
     ]
    },
    {
     "data": {
      "text/plain": [
       "<357x1 sparse matrix of type '<class 'numpy.int32'>'\n",
       "\twith 38 stored elements in Compressed Sparse Row format>"
      ]
     },
     "execution_count": 8,
     "metadata": {},
     "output_type": "execute_result"
    }
   ],
   "source": [
    "from util_virushost import load_external_labels\n",
    "\n",
    "missed = load_external_labels(session, VirusHost, annotator_name = 'gold', split = 2)\n",
    "\n",
    "L_gold_test = load_gold_labels(session, annotator_name = 'gold', split = 2)\n",
    "L_gold_test"
   ]
  },
  {
   "cell_type": "markdown",
   "metadata": {},
   "source": [
    "## Training a Long Short-Term Memory (LSTM) Neural Network\n",
    "\n",
    "We will train a bi-directional LSTM deep learning model for our end extraction by using the probabilistic training labels generated from Notebook 3. The model is implemented in Tensorflow, an open source machine learning library. Training an end model, instead of simply using the generative model, allows us to generalize to new data, beyond the heuristics of the labeling functions. \n",
    "\n",
    "##### Additional Information from Snorkel:\n",
    "\n",
    "In deep learning, hyperparameter tuning is very important and computationally expensive step in training models. In our project, the optimal hyperparameters were selected by a random grid search.\n",
    "\n",
    "\n",
    "| Parameter           | Definition                                            |\n",
    "|---------------------|--------------------------------------------------------------------------------------------------------|\n",
    "| n_epochs            | A single pass through all the data in your training set                                                |\n",
    "| dim                 | Vector embedding (i.e., learned representation) dimension                                              |\n",
    "| lr,                 | The learning rate by which we update model weights after,computing the gradient                        |\n",
    "| dropout             | A neural network regularization techique [0.0 - 1.0]                                                   |\n",
    "| print_freq          | Print updates every k epochs                                                                           |\n",
    "| batch_size          | Estimate the gradient using k samples. Larger batch sizes run faster, but may perform worse            |\n",
    "| max_sentence_length | The max length of an input sequence. Setting this too large, can slow your training down substantially "
   ]
  },
  {
   "cell_type": "code",
   "execution_count": null,
   "metadata": {},
   "outputs": [],
   "source": []
  },
  {
   "cell_type": "code",
   "execution_count": 9,
   "metadata": {},
   "outputs": [
    {
     "name": "stdout",
     "output_type": "stream",
     "text": [
      "Discriminitive Model Parameter Space (seed=123):\n",
      "Model 0: Trying parameters (0.001, 0.2)\n",
      "Model 1: Trying parameters (0.001, 0.5)\n",
      "Model 2: Trying parameters (0.01, 0.2)\n",
      "Model 3: Trying parameters (0.01, 0.5)\n",
      "============================================================\n",
      "[1] Testing lr = 1.00e-03, dropout = 2.00e-01\n",
      "============================================================\n",
      "[LSTM] Training model\n",
      "[LSTM] n_train=3108  #epochs=10  batch size=128\n"
     ]
    },
    {
     "name": "stderr",
     "output_type": "stream",
     "text": [
      "C:\\Users\\ericaxia3\\Anaconda3\\envs\\snorkel\\lib\\site-packages\\torch\\nn\\functional.py:1332: UserWarning: nn.functional.sigmoid is deprecated. Use torch.sigmoid instead.\n",
      "  warnings.warn(\"nn.functional.sigmoid is deprecated. Use torch.sigmoid instead.\")\n"
     ]
    },
    {
     "name": "stdout",
     "output_type": "stream",
     "text": [
      "[LSTM] Epoch 1 (265.10s)\tAverage loss=0.609740\tDev F1=70.48\n",
      "[LSTM] Epoch 6 (1436.73s)\tAverage loss=0.430431\tDev F1=63.59\n",
      "[LSTM] Epoch 10 (2314.31s)\tAverage loss=0.408065\tDev F1=73.42\n",
      "[LSTM] Model saved as <LSTM>\n",
      "[LSTM] Training done (2314.71s)\n",
      "[LSTM] Loaded model <LSTM>\n",
      "[LSTM] F-1 Score: 0.7341772151898734\n",
      "[LSTM] Model saved as <LSTM_0>\n",
      "[LSTM] Model saved as <LSTM_best>\n",
      "============================================================\n",
      "[2] Testing lr = 1.00e-03, dropout = 5.00e-01\n",
      "============================================================\n",
      "[LSTM] Training model\n",
      "[LSTM] n_train=3108  #epochs=10  batch size=128\n",
      "[LSTM] Epoch 1 (229.58s)\tAverage loss=0.615698\tDev F1=68.75\n",
      "[LSTM] Epoch 6 (1351.86s)\tAverage loss=0.435543\tDev F1=67.86\n",
      "[LSTM] Epoch 10 (2212.09s)\tAverage loss=0.410882\tDev F1=73.95\n",
      "[LSTM] Model saved as <LSTM>\n",
      "[LSTM] Training done (2212.41s)\n",
      "[LSTM] Loaded model <LSTM>\n",
      "[LSTM] F-1 Score: 0.7394957983193275\n",
      "[LSTM] Model saved as <LSTM_1>\n",
      "[LSTM] Model saved as <LSTM_best>\n",
      "============================================================\n",
      "[3] Testing lr = 1.00e-02, dropout = 2.00e-01\n",
      "============================================================\n",
      "[LSTM] Training model\n",
      "[LSTM] n_train=3108  #epochs=10  batch size=128\n",
      "[LSTM] Epoch 1 (260.58s)\tAverage loss=0.523457\tDev F1=75.63\n",
      "[LSTM] Epoch 6 (1419.83s)\tAverage loss=0.403865\tDev F1=71.86\n",
      "[LSTM] Epoch 10 (2298.52s)\tAverage loss=0.397957\tDev F1=71.05\n",
      "[LSTM] Model saved as <LSTM>\n",
      "[LSTM] Training done (2298.79s)\n",
      "[LSTM] Loaded model <LSTM>\n",
      "[LSTM] F-1 Score: 0.7105263157894737\n",
      "============================================================\n",
      "[4] Testing lr = 1.00e-02, dropout = 5.00e-01\n",
      "============================================================\n",
      "[LSTM] Training model\n",
      "[LSTM] n_train=3108  #epochs=10  batch size=128\n",
      "[LSTM] Epoch 1 (223.60s)\tAverage loss=0.531298\tDev F1=76.35\n",
      "[LSTM] Epoch 6 (1277.83s)\tAverage loss=0.411332\tDev F1=72.65\n",
      "[LSTM] Epoch 10 (2104.65s)\tAverage loss=0.402808\tDev F1=73.73\n",
      "[LSTM] Model saved as <LSTM>\n",
      "[LSTM] Training done (2104.91s)\n",
      "[LSTM] Loaded model <LSTM>\n",
      "[LSTM] F-1 Score: 0.7372881355932204\n",
      "[LSTM] Loaded model <LSTM_1>\n"
     ]
    }
   ],
   "source": [
    "from snorkel.learning.utils import GridSearch\n",
    "from snorkel.learning.pytorch.rnn import LSTM\n",
    "\n",
    "# search over this parameter grid \n",
    "param_grid = {\n",
    "    'lr': [1e-3, 1e-2],    # learning rate\n",
    "    'dropout': [0.2, 0.5],       # dropout rate\n",
    "#    'batch_size': [128, 256],     # batch size\n",
    "#    'n_epochs': [10, 20]     # number of epochs\n",
    "}\n",
    "\n",
    "model_hyperparams = {\n",
    "    'embedding_dim':   100,\n",
    "    'hidden_dim':      100,\n",
    "    'rebalance':       0.25,\n",
    "    'print_freq':      5,\n",
    "    'n_epochs': 10,\n",
    "    'batch_size': 128,\n",
    "    'dropout': 0.2\n",
    "}\n",
    "\n",
    "#model_class_params = {\n",
    "#    'n_threads':1\n",
    "#}\n",
    "\n",
    "grid_search = GridSearch(model_class = LSTM, parameter_dict = param_grid, \n",
    "                         X_train = train_cands, Y_train = train_marginals, \n",
    "                         model_hyperparams = model_hyperparams)\n",
    "\n",
    "print(\"Discriminitive Model Parameter Space (seed=123):\")\n",
    "for i, params in enumerate(grid_search.search_space()):\n",
    "    print(\"Model {}: Trying parameters {}\".format(i, params))\n",
    "\n",
    "disc_model, run_stats = grid_search.fit(X_valid = dev_cands, Y_valid = L_gold_dev)\n",
    "\n",
    "#run_stats"
   ]
  },
  {
   "cell_type": "code",
   "execution_count": null,
   "metadata": {},
   "outputs": [],
   "source": [
    "run_stats"
   ]
  },
  {
   "cell_type": "markdown",
   "metadata": {},
   "source": [
    "## Model Metrics"
   ]
  },
  {
   "cell_type": "code",
   "execution_count": null,
   "metadata": {},
   "outputs": [],
   "source": [
    "# scores for the best selected model\n",
    "p, r, f1 = disc_model.score(test_cands, L_gold_test, set_unlabeled_as_neg=False)  \n",
    "print(\"Prec: {0:.3f}, Recall: {1:.3f}, F1 Score: {2:.3f}\".format(p, r, f1))"
   ]
  },
  {
   "cell_type": "code",
   "execution_count": null,
   "metadata": {},
   "outputs": [],
   "source": [
    "tp, fp, tn, fn = disc_model.error_analysis(session, test_cands, L_gold_test, set_unlabeled_as_neg=False) "
   ]
  },
  {
   "cell_type": "code",
   "execution_count": 8,
   "metadata": {},
   "outputs": [
    {
     "data": {
      "application/javascript": [
       "require.undef('viewer');\n",
       "\n",
       "// NOTE: all elements should be selected using this.$el.find to avoid collisions with other Viewers\n",
       "\n",
       "define('viewer', [\"@jupyter-widgets/base\"], function(widgets) {\n",
       "    var ViewerView = widgets.DOMWidgetView.extend({\n",
       "        render: function() {\n",
       "            this.cids   = this.model.get('cids');\n",
       "            this.nPages = this.cids.length;\n",
       "            this.pid  = 0;\n",
       "            this.cxid = 0;\n",
       "            this.cid  = 0;\n",
       "\n",
       "            // Insert the html payload\n",
       "            this.$el.append(this.model.get('html'));\n",
       "\n",
       "            // Initialize all labels from previous sessions\n",
       "            this.labels = this.deserializeDict(this.model.get('_labels_serialized'));\n",
       "            for (var i=0; i < this.nPages; i++) {\n",
       "                this.pid = i;\n",
       "                for (var j=0; j < this.cids[i].length; j++) {\n",
       "                    this.cxid = j;\n",
       "                    for (var k=0; k < this.cids[i][j].length; k++) {\n",
       "                        this.cid = k;\n",
       "                        if (this.cids[i][j][k] in this.labels) {\n",
       "                            this.markCurrentCandidate(false);\n",
       "                        }\n",
       "                    }\n",
       "                }\n",
       "            }\n",
       "            this.pid  = 0;\n",
       "            this.cxid = 0;\n",
       "            this.cid  = 0;\n",
       "\n",
       "            // Enable button functionality for navigation\n",
       "            var that = this;\n",
       "            this.$el.find(\"#next-cand\").click(function() {\n",
       "                that.switchCandidate(1);\n",
       "            });\n",
       "            this.$el.find(\"#prev-cand\").click(function() {\n",
       "                that.switchCandidate(-1);\n",
       "            });\n",
       "            this.$el.find(\"#next-context\").click(function() {\n",
       "                that.switchContext(1);\n",
       "            });\n",
       "            this.$el.find(\"#prev-context\").click(function() {\n",
       "                that.switchContext(-1);\n",
       "            });\n",
       "            this.$el.find(\"#next-page\").click(function() {\n",
       "                that.switchPage(1);\n",
       "            });\n",
       "            this.$el.find(\"#prev-page\").click(function() {\n",
       "                that.switchPage(-1);\n",
       "            });\n",
       "            this.$el.find(\"#label-true\").click(function() {\n",
       "                that.labelCandidate(true, true);\n",
       "            });\n",
       "            this.$el.find(\"#label-false\").click(function() {\n",
       "                that.labelCandidate(false, true);\n",
       "            });\n",
       "\n",
       "            // Arrow key functionality\n",
       "            this.$el.keydown(function(e) {\n",
       "                switch(e.which) {\n",
       "                    case 74: // j\n",
       "                    that.switchCandidate(-1);\n",
       "                    break;\n",
       "\n",
       "                    case 73: // i\n",
       "                    that.switchPage(-1);\n",
       "                    break;\n",
       "\n",
       "                    case 76: // l\n",
       "                    that.switchCandidate(1);\n",
       "                    break;\n",
       "\n",
       "                    case 75: // k\n",
       "                    that.switchPage(1);\n",
       "                    break;\n",
       "\n",
       "                    case 84: // t\n",
       "                    that.labelCandidate(true, true);\n",
       "                    break;\n",
       "\n",
       "                    case 70: // f\n",
       "                    that.labelCandidate(false, true);\n",
       "                    break;\n",
       "                }\n",
       "            });\n",
       "\n",
       "            // Show the first page and highlight the first candidate\n",
       "            this.$el.find(\"#viewer-page-0\").show();\n",
       "            this.switchCandidate(0);\n",
       "        },\n",
       "\n",
       "        // Get candidate selector for currently selected candidate, escaping id properly\n",
       "        getCandidate: function() {\n",
       "            return this.$el.find(\".\"+this.cids[this.pid][this.cxid][this.cid]);\n",
       "        },  \n",
       "\n",
       "        // Color the candidate correctly according to registered label, as well as set highlighting\n",
       "        markCurrentCandidate: function(highlight) {\n",
       "            var cid  = this.cids[this.pid][this.cxid][this.cid];\n",
       "            var tags = this.$el.find(\".\"+cid);\n",
       "\n",
       "            // Clear color classes\n",
       "            tags.removeClass(\"candidate-h\");\n",
       "            tags.removeClass(\"true-candidate\");\n",
       "            tags.removeClass(\"true-candidate-h\");\n",
       "            tags.removeClass(\"false-candidate\");\n",
       "            tags.removeClass(\"false-candidate-h\");\n",
       "            tags.removeClass(\"highlighted\");\n",
       "\n",
       "            if (highlight) {\n",
       "                if (cid in this.labels) {\n",
       "                    tags.addClass(String(this.labels[cid]) + \"-candidate-h\");\n",
       "                } else {\n",
       "                    tags.addClass(\"candidate-h\");\n",
       "                }\n",
       "            \n",
       "            // If un-highlighting, leave with first non-null coloring\n",
       "            } else {\n",
       "                var that = this;\n",
       "                tags.each(function() {\n",
       "                    var cids = $(this).attr('class').split(/\\s+/).map(function(item) {\n",
       "                        return parseInt(item);\n",
       "                    });\n",
       "                    cids.sort();\n",
       "                    for (var i in cids) {\n",
       "                        if (cids[i] in that.labels) {\n",
       "                            var label = that.labels[cids[i]];\n",
       "                            $(this).addClass(String(label) + \"-candidate\");\n",
       "                            $(this).removeClass(String(!label) + \"-candidate\");\n",
       "                            break;\n",
       "                        }\n",
       "                    }\n",
       "                });\n",
       "            }\n",
       "\n",
       "            // Extra highlighting css\n",
       "            if (highlight) {\n",
       "                tags.addClass(\"highlighted\");\n",
       "            }\n",
       "\n",
       "            // Classes for showing direction of relation\n",
       "            if (highlight) {\n",
       "                this.$el.find(\".\"+cid+\"-0\").addClass(\"left-candidate\");\n",
       "                this.$el.find(\".\"+cid+\"-1\").addClass(\"right-candidate\");\n",
       "            } else {\n",
       "                this.$el.find(\".\"+cid+\"-0\").removeClass(\"left-candidate\");\n",
       "                this.$el.find(\".\"+cid+\"-1\").removeClass(\"right-candidate\");\n",
       "            }\n",
       "        },\n",
       "\n",
       "        // Cycle through candidates and highlight, by increment inc\n",
       "        switchCandidate: function(inc) {\n",
       "            var N = this.cids[this.pid].length\n",
       "            var M = this.cids[this.pid][this.cxid].length;\n",
       "            if (N == 0 || M == 0) { return false; }\n",
       "\n",
       "            // Clear highlighting from previous candidate\n",
       "            if (inc != 0) {\n",
       "                this.markCurrentCandidate(false);\n",
       "\n",
       "                // Increment the cid counter\n",
       "\n",
       "                // Move to next context\n",
       "                if (this.cid + inc >= M) {\n",
       "                    while (this.cid + inc >= M) {\n",
       "                        \n",
       "                        // At last context on page, halt\n",
       "                        if (this.cxid == N - 1) {\n",
       "                            this.cid = M - 1;\n",
       "                            inc = 0;\n",
       "                            break;\n",
       "                        \n",
       "                        // Increment to next context\n",
       "                        } else {\n",
       "                            inc -= M - this.cid;\n",
       "                            this.cxid += 1;\n",
       "                            M = this.cids[this.pid][this.cxid].length;\n",
       "                            this.cid = 0;\n",
       "                        }\n",
       "                    }\n",
       "\n",
       "                // Move to previous context\n",
       "                } else if (this.cid + inc < 0) {\n",
       "                    while (this.cid + inc < 0) {\n",
       "                        \n",
       "                        // At first context on page, halt\n",
       "                        if (this.cxid == 0) {\n",
       "                            this.cid = 0;\n",
       "                            inc = 0;\n",
       "                            break;\n",
       "                        \n",
       "                        // Increment to previous context\n",
       "                        } else {\n",
       "                            inc += this.cid + 1;\n",
       "                            this.cxid -= 1;\n",
       "                            M = this.cids[this.pid][this.cxid].length;\n",
       "                            this.cid = M - 1;\n",
       "                        }\n",
       "                    }\n",
       "                }\n",
       "\n",
       "                // Move within current context\n",
       "                this.cid += inc;\n",
       "            }\n",
       "            this.markCurrentCandidate(true);\n",
       "\n",
       "            // Push this new cid to the model\n",
       "            this.model.set('_selected_cid', this.cids[this.pid][this.cxid][this.cid]);\n",
       "            this.touch();\n",
       "        },\n",
       "\n",
       "        // Switch through contexts\n",
       "        switchContext: function(inc) {\n",
       "            this.markCurrentCandidate(false);\n",
       "\n",
       "            // Iterate context on this page\n",
       "            var M = this.cids[this.pid].length;\n",
       "            if (this.cxid + inc < 0) {\n",
       "                this.cxid = 0;\n",
       "            } else if (this.cxid + inc >= M) {\n",
       "                this.cxid = M - 1;\n",
       "            } else {\n",
       "                this.cxid += inc;\n",
       "            }\n",
       "\n",
       "            // Reset cid and set to first candidate\n",
       "            this.cid = 0;\n",
       "            this.switchCandidate(0);\n",
       "        },\n",
       "\n",
       "        // Switch through pages\n",
       "        switchPage: function(inc) {\n",
       "            this.markCurrentCandidate(false);\n",
       "            this.$el.find(\".viewer-page\").hide();\n",
       "            if (this.pid + inc < 0) {\n",
       "                this.pid = 0;\n",
       "            } else if (this.pid + inc > this.nPages - 1) {\n",
       "                this.pid = this.nPages - 1;\n",
       "            } else {\n",
       "                this.pid += inc;\n",
       "            }\n",
       "            this.$el.find(\"#viewer-page-\"+this.pid).show();\n",
       "\n",
       "            // Show pagination\n",
       "            this.$el.find(\"#page\").html(this.pid);\n",
       "\n",
       "            // Reset cid and set to first candidate\n",
       "            this.cid = 0;\n",
       "            this.cxid = 0;\n",
       "            this.switchCandidate(0);\n",
       "        },\n",
       "\n",
       "        // Label currently-selected candidate\n",
       "        labelCandidate: function(label, highlighted) {\n",
       "            var c    = this.getCandidate();\n",
       "            var cid  = this.cids[this.pid][this.cxid][this.cid];\n",
       "            var cl   = String(label) + \"-candidate\";\n",
       "            var clh  = String(label) + \"-candidate-h\";\n",
       "            var cln  = String(!label) + \"-candidate\";\n",
       "            var clnh = String(!label) + \"-candidate-h\";\n",
       "\n",
       "            // Toggle label highlighting\n",
       "            if (c.hasClass(cl) || c.hasClass(clh)) {\n",
       "                c.removeClass(cl);\n",
       "                c.removeClass(clh);\n",
       "                if (highlighted) {\n",
       "                    c.addClass(\"candidate-h\");\n",
       "                }\n",
       "                this.labels[cid] = null;\n",
       "                this.send({event: 'delete_label', cid: cid});\n",
       "            } else {\n",
       "                c.removeClass(cln);\n",
       "                c.removeClass(clnh);\n",
       "                if (highlighted) {\n",
       "                    c.addClass(clh);\n",
       "                } else {\n",
       "                    c.addClass(cl);\n",
       "                }\n",
       "                this.labels[cid] = label;\n",
       "                this.send({event: 'set_label', cid: cid, value: label});\n",
       "            }\n",
       "\n",
       "            // Set the label and pass back to the model\n",
       "            this.model.set('_labels_serialized', this.serializeDict(this.labels));\n",
       "            this.touch();\n",
       "        },\n",
       "\n",
       "        // Serialization of hash maps, because traitlets Dict doesn't seem to work...\n",
       "        serializeDict: function(d) {\n",
       "            var s = [];\n",
       "            for (var key in d) {\n",
       "                s.push(key+\"~~\"+d[key]);\n",
       "            }\n",
       "            return s.join();\n",
       "        },\n",
       "\n",
       "        // Deserialization of hash maps\n",
       "        deserializeDict: function(s) {\n",
       "            var d = {};\n",
       "            var entries = s.split(/,/);\n",
       "            var kv;\n",
       "            for (var i in entries) {\n",
       "                kv = entries[i].split(/~~/);\n",
       "                if (kv[1] == \"true\") {\n",
       "                    d[kv[0]] = true;\n",
       "                } else if (kv[1] == \"false\") {\n",
       "                    d[kv[0]] = false;\n",
       "                }\n",
       "            }\n",
       "            return d;\n",
       "        },\n",
       "    });\n",
       "\n",
       "    return {\n",
       "        ViewerView: ViewerView\n",
       "    };\n",
       "});\n"
      ],
      "text/plain": [
       "<IPython.core.display.Javascript object>"
      ]
     },
     "metadata": {},
     "output_type": "display_data"
    },
    {
     "data": {
      "application/vnd.jupyter.widget-view+json": {
       "model_id": "49bd545b585c45b0b55af96ac21b7679",
       "version_major": 2,
       "version_minor": 0
      },
      "text/plain": [
       "SentenceNgramViewer(cids=[[[88], [182, 183, 184, 185, 211, 212, 213, 214], [22, 193, 230]], [[81, 188, 208, 22…"
      ]
     },
     "metadata": {},
     "output_type": "display_data"
    }
   ],
   "source": [
    "# view examples\n",
    "from snorkel.viewer import SentenceNgramViewer\n",
    "\n",
    "SentenceNgramViewer(fp, session, height = 350)"
   ]
  },
  {
   "cell_type": "code",
   "execution_count": 10,
   "metadata": {},
   "outputs": [
    {
     "name": "stdout",
     "output_type": "stream",
     "text": [
      "[LSTM] Model saved as <virushost.lstm>\n"
     ]
    }
   ],
   "source": [
    "# save model for later use\n",
    "disc_model.save(\"virushost.lstm\")"
   ]
  },
  {
   "cell_type": "code",
   "execution_count": 12,
   "metadata": {},
   "outputs": [
    {
     "name": "stderr",
     "output_type": "stream",
     "text": [
      "C:\\Users\\ericaxia3\\Anaconda3\\envs\\snorkel\\lib\\site-packages\\torch\\nn\\functional.py:1332: UserWarning: nn.functional.sigmoid is deprecated. Use torch.sigmoid instead.\n",
      "  warnings.warn(\"nn.functional.sigmoid is deprecated. Use torch.sigmoid instead.\")\n"
     ]
    },
    {
     "name": "stdout",
     "output_type": "stream",
     "text": [
      "Saved 362 marginals\n"
     ]
    }
   ],
   "source": [
    "# save the predictions of the model on the test set back to the database\n",
    "disc_model.save_marginals(session, test_cands, training=False)"
   ]
  },
  {
   "cell_type": "code",
   "execution_count": 13,
   "metadata": {},
   "outputs": [],
   "source": [
    "test_marginals = load_marginals(session, X=test_cands, split=2, training=False)"
   ]
  },
  {
   "cell_type": "code",
   "execution_count": 14,
   "metadata": {},
   "outputs": [
    {
     "data": {
      "text/plain": [
       "362"
      ]
     },
     "execution_count": 14,
     "metadata": {},
     "output_type": "execute_result"
    }
   ],
   "source": [
    "len(test_marginals)"
   ]
  },
  {
   "cell_type": "code",
   "execution_count": 15,
   "metadata": {},
   "outputs": [
    {
     "data": {
      "image/png": "[encoded data removed]",
      "text/plain": [
       "<Figure size 432x288 with 1 Axes>"
      ]
     },
     "metadata": {
      "needs_background": "light"
     },
     "output_type": "display_data"
    }
   ],
   "source": [
    "# plot the test marginals\n",
    "import matplotlib.pyplot as plt\n",
    "plt.hist(test_marginals, bins=20, range=(0.0, 1.0))\n",
    "plt.title('Distribution of Test Marginals')\n",
    "plt.show()"
   ]
  },
  {
   "cell_type": "code",
   "execution_count": null,
   "metadata": {},
   "outputs": [],
   "source": []
  },
  {
   "cell_type": "code",
   "execution_count": null,
   "metadata": {},
   "outputs": [],
   "source": [
    "# export all candidates to csv file\n",
    "df = pd.DataFrame({'id': [], 'virus': [], 'host': []})\n",
    "\n",
    "# list all candidates (to export later and merge w predicted probabilities table?)\n",
    "for c in session.query(VirusHost).all():\n",
    "    df = df.append({'id': c.id, 'virus': c.virus.get_attrib_tokens(\"words\"), 'host': c.host.get_attrib_tokens(\"words\")}, ignore_index=True)\n",
    "    \n",
    "df2 = df[:]\n",
    "df2['virus'] = df['virus'].str.join(' ')\n",
    "df2['host'] = df['host'].str.join(' ')\n",
    "df2['virus'] = df2['virus'].str.replace('[^a-zA-Z ]', '')\n",
    "df2['host'] = df2['host'].str.replace('[^a-zA-Z ]', '')\n",
    "df2['id'] = df['id'].astype('int64')\n",
    "df2.to_csv('candidates.csv', index = False)"
   ]
  },
  {
   "cell_type": "code",
   "execution_count": null,
   "metadata": {},
   "outputs": [],
   "source": [
    "# exported marginals table using sqlite to a csv file, deleted unneeded columns, edited column names to 'id' and 'probability_positive' using Excel"
   ]
  }
 ],
 "metadata": {
  "kernelspec": {
   "display_name": "Python (snorkel-env)",
   "language": "python",
   "name": "snorkel"
  },
  "language_info": {
   "codemirror_mode": {
    "name": "ipython",
    "version": 3
   },
   "file_extension": ".py",
   "mimetype": "text/x-python",
   "name": "python",
   "nbconvert_exporter": "python",
   "pygments_lexer": "ipython3",
   "version": "3.6.6"
  }
 },
 "nbformat": 4,
 "nbformat_minor": 2
}
