{
 "cells": [
  {
   "cell_type": "code",
   "execution_count": 3,
   "metadata": {},
   "outputs": [
    {
     "name": "stdout",
     "output_type": "stream",
     "text": [
      "C:\\Users\\erica\\OneDrive\\Data_projects\\research_project_2018\\pdfs\n"
     ]
    }
   ],
   "source": [
    "import os\n",
    "from pathlib import Path\n",
    "\n",
    "# setting the current working directory to the folder containing the PDF files\n",
    "os.chdir(r'C:\\Users\\erica\\OneDrive\\Data_projects\\research_project_2018\\pdfs')\n",
    "\n",
    "print(Path.cwd())\n",
    "\n",
    "pdf_pths = [pth for pth in Path.cwd().iterdir() if pth.suffix == '.pdf']"
   ]
  },
  {
   "cell_type": "code",
   "execution_count": 12,
   "metadata": {},
   "outputs": [
    {
     "name": "stdout",
     "output_type": "stream",
     "text": [
      "C:\\Users\\erica\\OneDrive\\Data_projects\\research_project_2018\\pdfs\\paper1.pdf\n",
      "<class 'str'>\n",
      "C:\\Users\\erica\\OneDrive\\Data_projects\\research_project_2018\\pdfs\\peerj-5979.pdf\n",
      "<class 'str'>\n"
     ]
    }
   ],
   "source": [
    "# convert list of file paths to strings\n",
    "pdf_pths = [str(file) for file in pdf_pths]"
   ]
  },
  {
   "cell_type": "code",
   "execution_count": 6,
   "metadata": {
    "collapsed": true
   },
   "outputs": [],
   "source": [
    "# Load Snorkel\n",
    "%load_ext autoreload\n",
    "%autoreload 2\n",
    "%matplotlib inline\n",
    "\n",
    "from snorkel import SnorkelSession\n",
    "session = SnorkelSession()\n",
    "\n",
    "n_docs = 500 if 'CI' in os.environ else 2591"
   ]
  },
  {
   "cell_type": "code",
   "execution_count": 16,
   "metadata": {
    "collapsed": true
   },
   "outputs": [],
   "source": [
    "from snorkel.parser import TikaPreprocessor\n",
    "from snorkel.parser.spacy_parser import Spacy\n",
    "from snorkel.parser import CorpusParser\n",
    "from snorkel.models import Document, Sentence"
   ]
  },
  {
   "cell_type": "code",
   "execution_count": 17,
   "metadata": {},
   "outputs": [
    {
     "name": "stdout",
     "output_type": "stream",
     "text": [
      "Clearing existing...\n",
      "Running UDF...\n"
     ]
    },
    {
     "name": "stderr",
     "output_type": "stream",
     "text": [
      "\n",
      "  0%|                                                                                         | 0/2591 [00:00<?, ?it/s]\n",
      "  0%|                                                                                 | 1/2591 [00:00<10:27,  4.13it/s]"
     ]
    },
    {
     "name": "stdout",
     "output_type": "stream",
     "text": [
      "Wall time: 2.35 s\n",
      "Documents: 1\n",
      "Sentences: 305\n",
      "Clearing existing...\n",
      "Running UDF...\n"
     ]
    },
    {
     "name": "stderr",
     "output_type": "stream",
     "text": [
      "\n",
      "  0%|                                                                                         | 0/2591 [00:00<?, ?it/s]\n",
      "  0%|                                                                                 | 1/2591 [00:00<22:25,  1.92it/s]"
     ]
    },
    {
     "name": "stdout",
     "output_type": "stream",
     "text": [
      "Wall time: 4.6 s\n",
      "Documents: 1\n",
      "Sentences: 789\n"
     ]
    }
   ],
   "source": [
    "# Iterate through PDF files \n",
    "for file in pdf_pths:\n",
    "    doc_preprocessor = TikaPreprocessor(file, max_docs=n_docs)\n",
    "    corpus_parser = CorpusParser(parser=Spacy())\n",
    "    %time corpus_parser.apply(doc_preprocessor, count=n_docs)\n",
    "    print(\"Documents:\", session.query(Document).count())\n",
    "    print(\"Sentences:\", session.query(Sentence).count())"
   ]
  }
 ],
 "metadata": {
  "kernelspec": {
   "display_name": "Python (snorkel)",
   "language": "python",
   "name": "snorkel"
  },
  "language_info": {
   "codemirror_mode": {
    "name": "ipython",
    "version": 3
   },
   "file_extension": ".py",
   "mimetype": "text/x-python",
   "name": "python",
   "nbconvert_exporter": "python",
   "pygments_lexer": "ipython3",
   "version": "3.6.7"
  }
 },
 "nbformat": 4,
 "nbformat_minor": 2
}
