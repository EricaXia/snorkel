{
 "cells": [
  {
   "cell_type": "markdown",
   "metadata": {},
   "source": [
    "- tested to be working on 3/5/19 Erica's laptop (with ocassional unknown server error occuring but fixed itself after running again)"
   ]
  },
  {
   "cell_type": "code",
   "execution_count": 10,
   "metadata": {},
   "outputs": [],
   "source": [
    "import os\n",
    "from pathlib import Path\n",
    "\n",
    "# setting the current working directory to the folder containing the PDF files\n",
    "#os.chdir(r'C:\\Users\\erica\\OneDrive\\Data_projects\\research_project_2018\\pdfs')\n",
    "os.chdir(r'C:\\Users\\erica\\Documents\\pdfs_epicenter')\n",
    "\n",
    "\n",
    "pdf_pths = [pth for pth in Path.cwd().iterdir() if pth.suffix == '.pdf']"
   ]
  },
  {
   "cell_type": "code",
   "execution_count": 11,
   "metadata": {},
   "outputs": [],
   "source": [
    "# convert list of file paths to strings\n",
    "pdf_pths = [str(file) for file in pdf_pths]"
   ]
  },
  {
   "cell_type": "code",
   "execution_count": 12,
   "metadata": {},
   "outputs": [
    {
     "name": "stdout",
     "output_type": "stream",
     "text": [
      "The autoreload extension is already loaded. To reload it, use:\n",
      "  %reload_ext autoreload\n"
     ]
    }
   ],
   "source": [
    "# Load Snorkel\n",
    "%load_ext autoreload\n",
    "%autoreload 2\n",
    "%matplotlib inline\n",
    "\n",
    "from snorkel import SnorkelSession\n",
    "session = SnorkelSession()\n",
    "\n",
    "#n_docs = 500 if 'CI' in os.environ else 2591"
   ]
  },
  {
   "cell_type": "code",
   "execution_count": 13,
   "metadata": {},
   "outputs": [],
   "source": [
    "from snorkel.parser import TikaPreprocessor\n",
    "from snorkel.parser.spacy_parser import Spacy\n",
    "from snorkel.parser import CorpusParser\n",
    "from snorkel.models import Document, Sentence"
   ]
  },
  {
   "cell_type": "code",
   "execution_count": 14,
   "metadata": {},
   "outputs": [
    {
     "name": "stdout",
     "output_type": "stream",
     "text": [
      "Clearing existing...\n",
      "Running UDF...\n"
     ]
    },
    {
     "name": "stderr",
     "output_type": "stream",
     "text": [
      "\n",
      "  0%|                    | 0/500 [00:00<?, ?it/s]\n",
      "  0%|            | 1/500 [00:00<06:35,  1.26it/s]"
     ]
    },
    {
     "name": "stdout",
     "output_type": "stream",
     "text": [
      "Wall time: 5 s\n",
      "Documents: 1\n",
      "Sentences: 448\n",
      "Clearing existing...\n",
      "Running UDF...\n"
     ]
    },
    {
     "name": "stderr",
     "output_type": "stream",
     "text": [
      "\n",
      "  0%|                    | 0/500 [00:00<?, ?it/s]\n",
      "  0%|            | 1/500 [00:01<10:50,  1.30s/it]"
     ]
    },
    {
     "name": "stdout",
     "output_type": "stream",
     "text": [
      "Wall time: 2.63 s\n",
      "Documents: 1\n",
      "Sentences: 169\n",
      "Clearing existing...\n",
      "Running UDF...\n"
     ]
    },
    {
     "name": "stderr",
     "output_type": "stream",
     "text": [
      "\n",
      "  0%|                    | 0/500 [00:00<?, ?it/s]\n",
      "  0%|            | 1/500 [00:01<09:37,  1.16s/it]"
     ]
    },
    {
     "name": "stdout",
     "output_type": "stream",
     "text": [
      "Wall time: 1.2 s\n",
      "Documents: 1\n",
      "Sentences: 112\n",
      "Clearing existing...\n",
      "Running UDF...\n"
     ]
    },
    {
     "name": "stderr",
     "output_type": "stream",
     "text": [
      "\n",
      "  0%|                    | 0/500 [00:00<?, ?it/s]\n",
      "  0%|            | 1/500 [00:00<03:06,  2.67it/s]"
     ]
    },
    {
     "name": "stdout",
     "output_type": "stream",
     "text": [
      "Wall time: 10.8 s\n",
      "Documents: 1\n",
      "Sentences: 1621\n",
      "Clearing existing...\n",
      "Running UDF...\n"
     ]
    },
    {
     "name": "stderr",
     "output_type": "stream",
     "text": [
      "\n",
      "  0%|                    | 0/500 [00:00<?, ?it/s]\n",
      "  0%|            | 1/500 [00:00<03:54,  2.13it/s]"
     ]
    },
    {
     "name": "stdout",
     "output_type": "stream",
     "text": [
      "Wall time: 7.66 s\n",
      "Documents: 1\n",
      "Sentences: 1261\n",
      "Clearing existing...\n",
      "Running UDF...\n"
     ]
    },
    {
     "name": "stderr",
     "output_type": "stream",
     "text": [
      "\n",
      "  0%|                    | 0/500 [00:00<?, ?it/s]\n",
      "  0%|            | 1/500 [00:00<01:02,  8.04it/s]"
     ]
    },
    {
     "name": "stdout",
     "output_type": "stream",
     "text": [
      "Wall time: 3.29 s\n",
      "Documents: 1\n",
      "Sentences: 373\n",
      "Clearing existing...\n",
      "Running UDF...\n"
     ]
    },
    {
     "name": "stderr",
     "output_type": "stream",
     "text": [
      "\n",
      "  0%|                    | 0/500 [00:00<?, ?it/s]\n",
      "  0%|            | 1/500 [00:00<01:44,  4.78it/s]"
     ]
    },
    {
     "name": "stdout",
     "output_type": "stream",
     "text": [
      "Wall time: 1.49 s\n",
      "Documents: 1\n",
      "Sentences: 181\n",
      "Clearing existing...\n",
      "Running UDF...\n"
     ]
    },
    {
     "name": "stderr",
     "output_type": "stream",
     "text": [
      "\n",
      "  0%|                    | 0/500 [00:00<?, ?it/s]\n",
      "  0%|            | 1/500 [00:01<13:08,  1.58s/it]"
     ]
    },
    {
     "name": "stdout",
     "output_type": "stream",
     "text": [
      "Wall time: 1.62 s\n",
      "Documents: 1\n",
      "Sentences: 215\n",
      "Clearing existing...\n",
      "Running UDF...\n"
     ]
    },
    {
     "name": "stderr",
     "output_type": "stream",
     "text": [
      "\n",
      "  0%|                    | 0/500 [00:00<?, ?it/s]\n",
      "  0%|            | 1/500 [00:00<01:06,  7.52it/s]"
     ]
    },
    {
     "name": "stdout",
     "output_type": "stream",
     "text": [
      "Wall time: 2.8 s\n",
      "Documents: 1\n",
      "Sentences: 555\n",
      "Clearing existing...\n",
      "Running UDF...\n"
     ]
    },
    {
     "name": "stderr",
     "output_type": "stream",
     "text": [
      "\n",
      "  0%|                    | 0/500 [00:00<?, ?it/s]\n",
      "  0%|            | 1/500 [00:00<03:27,  2.40it/s]"
     ]
    },
    {
     "name": "stdout",
     "output_type": "stream",
     "text": [
      "Wall time: 8.96 s\n",
      "Documents: 1\n",
      "Sentences: 1126\n",
      "Clearing existing...\n",
      "Running UDF...\n"
     ]
    },
    {
     "name": "stderr",
     "output_type": "stream",
     "text": [
      "\n",
      "  0%|                    | 0/500 [00:00<?, ?it/s]\n",
      "  0%|            | 1/500 [00:00<02:32,  3.26it/s]"
     ]
    },
    {
     "name": "stdout",
     "output_type": "stream",
     "text": [
      "Wall time: 3.12 s\n",
      "Documents: 1\n",
      "Sentences: 457\n",
      "Clearing existing...\n",
      "Running UDF...\n"
     ]
    },
    {
     "name": "stderr",
     "output_type": "stream",
     "text": [
      "\n",
      "  0%|                    | 0/500 [00:00<?, ?it/s]\n",
      "  0%|            | 1/500 [00:00<00:57,  8.65it/s]"
     ]
    },
    {
     "name": "stdout",
     "output_type": "stream",
     "text": [
      "Wall time: 2.63 s\n",
      "Documents: 1\n",
      "Sentences: 312\n",
      "Clearing existing...\n",
      "Running UDF...\n"
     ]
    },
    {
     "name": "stderr",
     "output_type": "stream",
     "text": [
      "\n",
      "  0%|                    | 0/500 [00:00<?, ?it/s]\n",
      "  0%|            | 1/500 [00:00<00:57,  8.63it/s]"
     ]
    },
    {
     "name": "stdout",
     "output_type": "stream",
     "text": [
      "Wall time: 2.1 s\n",
      "Documents: 1\n",
      "Sentences: 269\n",
      "Clearing existing...\n",
      "Running UDF...\n"
     ]
    },
    {
     "name": "stderr",
     "output_type": "stream",
     "text": [
      "\n",
      "  0%|                    | 0/500 [00:00<?, ?it/s]\n",
      "  0%|            | 1/500 [00:00<01:10,  7.10it/s]"
     ]
    },
    {
     "name": "stdout",
     "output_type": "stream",
     "text": [
      "Wall time: 4.66 s\n",
      "Documents: 1\n",
      "Sentences: 752\n",
      "Clearing existing...\n",
      "Running UDF...\n"
     ]
    },
    {
     "name": "stderr",
     "output_type": "stream",
     "text": [
      "\n",
      "  0%|                    | 0/500 [00:00<?, ?it/s]\n",
      "  0%|            | 1/500 [00:00<01:12,  6.93it/s]"
     ]
    },
    {
     "name": "stdout",
     "output_type": "stream",
     "text": [
      "Wall time: 5.09 s\n",
      "Documents: 1\n",
      "Sentences: 620\n",
      "Clearing existing...\n",
      "Running UDF...\n"
     ]
    },
    {
     "name": "stderr",
     "output_type": "stream",
     "text": [
      "\n",
      "  0%|                    | 0/500 [00:00<?, ?it/s]\n",
      "  0%|            | 1/500 [00:02<23:48,  2.86s/it]"
     ]
    },
    {
     "name": "stdout",
     "output_type": "stream",
     "text": [
      "Wall time: 2.91 s\n",
      "Documents: 1\n",
      "Sentences: 507\n",
      "Clearing existing...\n",
      "Running UDF...\n"
     ]
    },
    {
     "name": "stderr",
     "output_type": "stream",
     "text": [
      "\n",
      "  0%|                    | 0/500 [00:00<?, ?it/s]\n",
      "  0%|            | 1/500 [00:00<01:17,  6.48it/s]"
     ]
    },
    {
     "name": "stdout",
     "output_type": "stream",
     "text": [
      "Wall time: 10.4 s\n",
      "Documents: 1\n",
      "Sentences: 1800\n",
      "Clearing existing...\n",
      "Running UDF...\n"
     ]
    },
    {
     "name": "stderr",
     "output_type": "stream",
     "text": [
      "\n",
      "  0%|                    | 0/500 [00:00<?, ?it/s]\n",
      "  0%|            | 1/500 [00:03<29:56,  3.60s/it]"
     ]
    },
    {
     "name": "stdout",
     "output_type": "stream",
     "text": [
      "Wall time: 3.67 s\n",
      "Documents: 1\n",
      "Sentences: 660\n",
      "Clearing existing...\n",
      "Running UDF...\n"
     ]
    },
    {
     "name": "stderr",
     "output_type": "stream",
     "text": [
      "\n",
      "  0%|                    | 0/500 [00:00<?, ?it/s]\n",
      "  0%|            | 1/500 [00:00<01:34,  5.27it/s]"
     ]
    },
    {
     "name": "stdout",
     "output_type": "stream",
     "text": [
      "Wall time: 2.06 s\n",
      "Documents: 1\n",
      "Sentences: 306\n",
      "Clearing existing...\n",
      "Running UDF...\n"
     ]
    },
    {
     "name": "stderr",
     "output_type": "stream",
     "text": [
      "\n",
      "  0%|                    | 0/500 [00:00<?, ?it/s]\n",
      "  0%|            | 1/500 [00:00<01:14,  6.66it/s]"
     ]
    },
    {
     "name": "stdout",
     "output_type": "stream",
     "text": [
      "Wall time: 4.11 s\n",
      "Documents: 1\n",
      "Sentences: 550\n",
      "Clearing existing...\n",
      "Running UDF...\n"
     ]
    },
    {
     "name": "stderr",
     "output_type": "stream",
     "text": [
      "\n",
      "  0%|                    | 0/500 [00:00<?, ?it/s]\n",
      "  0%|            | 1/500 [00:00<02:48,  2.96it/s]"
     ]
    },
    {
     "name": "stdout",
     "output_type": "stream",
     "text": [
      "Wall time: 9.83 s\n",
      "Documents: 1\n",
      "Sentences: 1628\n",
      "Clearing existing...\n",
      "Running UDF...\n"
     ]
    },
    {
     "name": "stderr",
     "output_type": "stream",
     "text": [
      "\n",
      "  0%|                    | 0/500 [00:00<?, ?it/s]\n",
      "  0%|            | 1/500 [00:00<02:13,  3.75it/s]"
     ]
    },
    {
     "name": "stdout",
     "output_type": "stream",
     "text": [
      "Wall time: 3.42 s\n",
      "Documents: 1\n",
      "Sentences: 575\n",
      "Clearing existing...\n",
      "Running UDF...\n"
     ]
    },
    {
     "name": "stderr",
     "output_type": "stream",
     "text": [
      "\n",
      "  0%|                    | 0/500 [00:00<?, ?it/s]\n",
      "  0%|            | 1/500 [00:00<00:57,  8.70it/s]"
     ]
    },
    {
     "name": "stdout",
     "output_type": "stream",
     "text": [
      "Wall time: 1.49 s\n",
      "Documents: 1\n",
      "Sentences: 248\n"
     ]
    }
   ],
   "source": [
    "# Iterate through PDF files \n",
    "n_docs = 500\n",
    "\n",
    "for file in pdf_pths:\n",
    "    doc_preprocessor = TikaPreprocessor(file, max_docs=n_docs)\n",
    "    corpus_parser = CorpusParser(parser=Spacy())\n",
    "    %time corpus_parser.apply(doc_preprocessor, count=n_docs)\n",
    "    print(\"Documents:\", session.query(Document).count())\n",
    "    print(\"Sentences:\", session.query(Sentence).count())"
   ]
  },
  {
   "cell_type": "code",
   "execution_count": 15,
   "metadata": {},
   "outputs": [],
   "source": [
    "# Extract Candidates:\n",
    "# First import classes to define candidates and their subclasses\n",
    "\n",
    "from snorkel.models import Candidate, candidate_subclass\n",
    "ChemicalDisease = candidate_subclass('Disease', ['virus', 'host'])"
   ]
  },
  {
   "cell_type": "code",
   "execution_count": 16,
   "metadata": {},
   "outputs": [],
   "source": [
    "# To do next:\n",
    "# Extract Candidates using a pretagged candidate extractor, eg TaggerOne NER\n"
   ]
  }
 ],
 "metadata": {
  "kernelspec": {
   "display_name": "Python (snorkel)",
   "language": "python",
   "name": "snorkel"
  },
  "language_info": {
   "codemirror_mode": {
    "name": "ipython",
    "version": 3
   },
   "file_extension": ".py",
   "mimetype": "text/x-python",
   "name": "python",
   "nbconvert_exporter": "python",
   "pygments_lexer": "ipython3",
   "version": "3.6.7"
  }
 },
 "nbformat": 4,
 "nbformat_minor": 2
}
