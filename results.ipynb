{
 "cells": [
  {
   "cell_type": "markdown",
   "metadata": {},
   "source": [
    "## Results\n",
    "\n",
    "Notebook to clean up, organize, analyze, and visualize results from Notebook 4"
   ]
  },
  {
   "cell_type": "code",
   "execution_count": 12,
   "metadata": {},
   "outputs": [],
   "source": [
    "import numpy as np\n",
    "import pandas as pd\n",
    "import matplotlib.pyplot as plt\n",
    "import seaborn as sns\n",
    "%matplotlib inline\n",
    "import networkx as nx"
   ]
  },
  {
   "cell_type": "code",
   "execution_count": 13,
   "metadata": {},
   "outputs": [],
   "source": [
    "df1 = pd.read_csv('candidates.csv')\n",
    "#print(df1.shape)\n",
    "df2 = pd.read_csv('marginal.csv')\n",
    "#print(df2.shape)\n",
    "#print(df1.shape[0] - df2.shape[0]) # diff should be size of development set, since no marginal probabilities for those"
   ]
  },
  {
   "cell_type": "code",
   "execution_count": 14,
   "metadata": {},
   "outputs": [],
   "source": [
    "result = pd.merge(df1, df2, on = 'id')\n",
    "#print(result.shape)\n",
    "#result.to_csv('result.csv', index=False)"
   ]
  },
  {
   "cell_type": "code",
   "execution_count": 15,
   "metadata": {},
   "outputs": [],
   "source": [
    "result['virus'] = result['virus'].apply(lambda x: x.strip())\n",
    "result['host'] = result['host'].apply(lambda x: x.strip())"
   ]
  },
  {
   "cell_type": "code",
   "execution_count": 16,
   "metadata": {},
   "outputs": [],
   "source": [
    "# viruses - fix names\n",
    "result.replace('West Nile [vV]irus|WEST NILE VIRUS', 'WNV', inplace=True, regex=True)\n",
    "result.replace('West Nile', 'WNV', inplace=True)\n",
    "result.replace('TBE virus', 'TBEV', inplace=True)\n",
    "result.replace('tick  borne encephalitis virus', 'TBEV', inplace=True)\n",
    "result.replace('tick  borne encephalitis', 'TBEV', inplace=True)\n",
    "result.replace('Tick  Borne Encephalitis Virus', 'TBEV', inplace=True)\n",
    "result.replace('TBE', 'TBEV', inplace=True)\n",
    "result.replace('Usutu virus', 'USUV', inplace=True)\n",
    "result.replace('Japanese encephalitis', 'JEV', inplace=True)\n",
    "result.replace('Japanese encephalitis virus', 'JEV', inplace=True)\n",
    "result.replace('Zika virus', 'ZIKV', inplace=True)\n",
    "result.replace('louping ill virus', 'LIV', inplace=True)\n",
    "result.replace('dengue|Dengue|DENV virus', 'DENV', inplace=True, regex=True)\n",
    "result.replace('SLE virus', 'SLEV', inplace=True, regex=True)\n",
    "# hosts\n",
    "result.replace('Human|humans', 'human', inplace=True, regex=True)\n",
    "result.replace('Monkey|monkeys', 'monkey', inplace=True, regex=True)\n",
    "result.replace('mice|Mice', 'mouse', inplace=True, regex=True)\n",
    "result.replace('pig|pigs|Pig|Pigs', 'swine', inplace=True, regex=True)\n",
    "result.replace('Chicken|chickens', 'chicken', inplace=True, regex=True)\n",
    "result.replace('Sheep', 'sheep', inplace=True, regex=True)"
   ]
  },
  {
   "cell_type": "code",
   "execution_count": 17,
   "metadata": {},
   "outputs": [],
   "source": [
    "# filter by positively predicted candidates (probability at least 51%)\n",
    "positive = result[result['probability_positive'] >= 0.51]\n",
    "#print(positive.shape) # approx num of positive candidates"
   ]
  },
  {
   "cell_type": "code",
   "execution_count": 18,
   "metadata": {},
   "outputs": [
    {
     "data": {
      "text/html": [
       "<div>\n",
       "<style scoped>\n",
       "    .dataframe tbody tr th:only-of-type {\n",
       "        vertical-align: middle;\n",
       "    }\n",
       "\n",
       "    .dataframe tbody tr th {\n",
       "        vertical-align: top;\n",
       "    }\n",
       "\n",
       "    .dataframe thead th {\n",
       "        text-align: right;\n",
       "    }\n",
       "</style>\n",
       "<table border=\"1\" class=\"dataframe\">\n",
       "  <thead>\n",
       "    <tr style=\"text-align: right;\">\n",
       "      <th></th>\n",
       "      <th>id</th>\n",
       "      <th>virus</th>\n",
       "      <th>host</th>\n",
       "      <th>probability_positive</th>\n",
       "    </tr>\n",
       "  </thead>\n",
       "  <tbody>\n",
       "    <tr>\n",
       "      <th>4200</th>\n",
       "      <td>4631</td>\n",
       "      <td>DENV</td>\n",
       "      <td>monkey</td>\n",
       "      <td>0.518614</td>\n",
       "    </tr>\n",
       "    <tr>\n",
       "      <th>1837</th>\n",
       "      <td>1838</td>\n",
       "      <td>bluetongue virus</td>\n",
       "      <td>sheep</td>\n",
       "      <td>0.519120</td>\n",
       "    </tr>\n",
       "    <tr>\n",
       "      <th>3487</th>\n",
       "      <td>3488</td>\n",
       "      <td>WNF</td>\n",
       "      <td>white stork</td>\n",
       "      <td>0.519120</td>\n",
       "    </tr>\n",
       "    <tr>\n",
       "      <th>4201</th>\n",
       "      <td>4632</td>\n",
       "      <td>ZIKV</td>\n",
       "      <td>monkey</td>\n",
       "      <td>0.519747</td>\n",
       "    </tr>\n",
       "    <tr>\n",
       "      <th>3826</th>\n",
       "      <td>4257</td>\n",
       "      <td>WNV</td>\n",
       "      <td>common kingfisher</td>\n",
       "      <td>0.522838</td>\n",
       "    </tr>\n",
       "  </tbody>\n",
       "</table>\n",
       "</div>"
      ],
      "text/plain": [
       "        id             virus               host  probability_positive\n",
       "4200  4631              DENV             monkey              0.518614\n",
       "1837  1838  bluetongue virus              sheep              0.519120\n",
       "3487  3488               WNF        white stork              0.519120\n",
       "4201  4632              ZIKV             monkey              0.519747\n",
       "3826  4257               WNV  common kingfisher              0.522838"
      ]
     },
     "execution_count": 18,
     "metadata": {},
     "output_type": "execute_result"
    }
   ],
   "source": [
    "positive.sort_values(by = 'probability_positive').head()"
   ]
  },
  {
   "cell_type": "code",
   "execution_count": 19,
   "metadata": {},
   "outputs": [],
   "source": [
    "#positive['virus'].value_counts()\n",
    "#positive['host'].value_counts()"
   ]
  },
  {
   "cell_type": "code",
   "execution_count": 20,
   "metadata": {},
   "outputs": [
    {
     "data": {
      "image/png": "[encoded data removed]",
      "text/plain": [
       "<Figure size 864x288 with 1 Axes>"
      ]
     },
     "metadata": {
      "needs_background": "light"
     },
     "output_type": "display_data"
    }
   ],
   "source": [
    "g = sns.catplot(x=\"virus\", kind=\"count\", data=positive, order=pd.value_counts(positive['virus']).iloc[:10].index, palette=\"Blues_r\")\n",
    "g.fig.set_size_inches(12,4)\n",
    "axes = g.axes.flatten()\n",
    "axes[0].set_title(\"10 Most Common Viruses\")\n",
    "plt.show()"
   ]
  },
  {
   "cell_type": "code",
   "execution_count": 21,
   "metadata": {},
   "outputs": [
    {
     "data": {
      "image/png": "[encoded data removed]",
      "text/plain": [
       "<Figure size 864x288 with 1 Axes>"
      ]
     },
     "metadata": {
      "needs_background": "light"
     },
     "output_type": "display_data"
    }
   ],
   "source": [
    "g = sns.catplot(x=\"host\", kind=\"count\", data=positive, order=pd.value_counts(positive['host']).iloc[:10].index, palette='OrRd_r')\n",
    "g.fig.set_size_inches(12,4)\n",
    "axes = g.axes.flatten()\n",
    "axes[0].set_title(\"10 Most Common Hosts\")\n",
    "plt.show()"
   ]
  },
  {
   "cell_type": "code",
   "execution_count": null,
   "metadata": {},
   "outputs": [],
   "source": []
  },
  {
   "cell_type": "markdown",
   "metadata": {},
   "source": [
    "# Future data viz graphs to make:\n",
    "- Network analysis graph (nodes = viruses connected by hosts in common)\n",
    "- Correlations btwn viruses (depend on how many host sin common); pairplot; heatmap w virus on one axis and host on another axis\n",
    "- Stacked bar plot of virus count (each bar divided by hosts names)\n",
    "- Bar plot of negative relations\n"
   ]
  },
  {
   "cell_type": "code",
   "execution_count": null,
   "metadata": {},
   "outputs": [],
   "source": []
  }
 ],
 "metadata": {
  "kernelspec": {
   "display_name": "Python (snorkel-env)",
   "language": "python",
   "name": "snorkel"
  },
  "language_info": {
   "codemirror_mode": {
    "name": "ipython",
    "version": 3
   },
   "file_extension": ".py",
   "mimetype": "text/x-python",
   "name": "python",
   "nbconvert_exporter": "python",
   "pygments_lexer": "ipython3",
   "version": "3.6.6"
  }
 },
 "nbformat": 4,
 "nbformat_minor": 2
}
