{
 "cells": [
  {
   "cell_type": "code",
   "execution_count": 1,
   "metadata": {
    "collapsed": true
   },
   "outputs": [],
   "source": [
    "import tika\n",
    "from tika import parser"
   ]
  },
  {
   "cell_type": "code",
   "execution_count": 9,
   "metadata": {
    "collapsed": true
   },
   "outputs": [],
   "source": [
    "from pathlib import Path\n",
    "\n",
    "pathlist = Path(r'C:\\Users\\erica\\OneDrive\\Data_projects\\research_project_2018\\pdfs_epicenter').glob('**/*.pdf')\n",
    "\n",
    "dict_list = []\n",
    "\n",
    "for i, path in enumerate(pathlist):\n",
    "    path_in_str = str(path)\n",
    "    parsed = parser.from_file(path_in_str)\n",
    "#    parsed[\"doc_name\"] = \"doc_\" + str(i)\n",
    "#    parsed.pop(\"status\")\n",
    "#    parsed.pop(\"metadata\")\n",
    "    dict_list.append(parsed['content'])"
   ]
  },
  {
   "cell_type": "code",
   "execution_count": 3,
   "metadata": {},
   "outputs": [
    {
     "name": "stdout",
     "output_type": "stream",
     "text": [
      "39\n"
     ]
    }
   ],
   "source": [
    "# 39 docs read in\n",
    "print(len(dict_list))"
   ]
  },
  {
   "cell_type": "code",
   "execution_count": 13,
   "metadata": {},
   "outputs": [
    {
     "name": "stdout",
     "output_type": "stream",
     "text": [
      "<class 'str'>\n"
     ]
    }
   ],
   "source": [
    "print(type(dict_list[0]))"
   ]
  },
  {
   "cell_type": "code",
   "execution_count": 17,
   "metadata": {},
   "outputs": [],
   "source": [
    "# write to a text file\n",
    "\n",
    "with open('pdf_output.txt', 'w', encoding='utf-8') as f:\n",
    "    for doc in dict_list:\n",
    "        f.write(doc)"
   ]
  },
  {
   "cell_type": "code",
   "execution_count": 5,
   "metadata": {
    "collapsed": true
   },
   "outputs": [],
   "source": [
    "# write to a csv or tsv file\n",
    "import csv\n",
    "keys = ['doc_name','content']\n",
    "#dirname = os.path.dirname(os.path.abspath(__file__))\n",
    "#csvfilename = os.path.join(dirname, 'CSVFile.csv')\n",
    "with open('pdf_output.csv', 'w', encoding = 'utf-8') as output_file:\n",
    "    dict_writer = csv.DictWriter(output_file, keys)\n",
    "    dict_writer.writerows(dict_list)  "
   ]
  },
  {
   "cell_type": "code",
   "execution_count": null,
   "metadata": {
    "collapsed": true
   },
   "outputs": [],
   "source": []
  }
 ],
 "metadata": {
  "kernelspec": {
   "display_name": "Python 3",
   "language": "python",
   "name": "python3"
  },
  "language_info": {
   "codemirror_mode": {
    "name": "ipython",
    "version": 3
   },
   "file_extension": ".py",
   "mimetype": "text/x-python",
   "name": "python",
   "nbconvert_exporter": "python",
   "pygments_lexer": "ipython3",
   "version": "3.6.7"
  }
 },
 "nbformat": 4,
 "nbformat_minor": 2
}
