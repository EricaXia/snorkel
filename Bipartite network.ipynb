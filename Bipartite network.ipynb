{
 "cells": [
  {
   "cell_type": "code",
   "execution_count": null,
   "metadata": {},
   "outputs": [],
   "source": [
    "from networkx.algorithms import bipartite\n",
    "import pandas as pd\n",
    "\n",
    "\n",
    "data = pd.read_csv(filename)\n",
    "\n",
    "DG=nx.Graph()\n",
    "\n",
    "\"\"\"Initiating host nodes\"\"\"\n",
    "\n",
    "for host in data['Host'].unique().tolist():\n",
    "    DG.add_node(host, type=\"host\", speciesname = host, bipartite = 0)\n",
    "\n",
    "\"\"\"Initiating virus nodes\"\"\"\n",
    "\n",
    "for virus in data['Virus'].unique().tolist():\n",
    "    DG.add_node(virus, type=\"virus\", virusname = virus, bipartite = 1)\n",
    "\n",
    "\"\"\"Iterating through the raw data to add Edges if a virus is found in a host\"\"\"\n",
    "for index, row in data.iterrows():\n",
    "    DG.add_edge(row['Host'], row['Virus'], weight = 1)\n",
    "\n",
    "\"\"\"Creating positions of the nodes\"\"\"\n",
    "#layout = nx.spring_layout(DG, k = 0.05, scale=2) #\n",
    "layout = nx.fruchterman_reingold_layout(DG, k = 0.05, iterations=50)\n",
    "\"\"\"write graph \"\"\"\n",
    "nx.write_graphml(DG, network_name + \"_bipartite.graphml\")"
   ]
  }
 ],
 "metadata": {
  "kernelspec": {
   "display_name": "py37",
   "language": "python",
   "name": "py37"
  },
  "language_info": {
   "codemirror_mode": {
    "name": "ipython",
    "version": 3
   },
   "file_extension": ".py",
   "mimetype": "text/x-python",
   "name": "python",
   "nbconvert_exporter": "python",
   "pygments_lexer": "ipython3",
   "version": "3.7.1"
  },
  "toc": {
   "base_numbering": 1,
   "nav_menu": {},
   "number_sections": true,
   "sideBar": true,
   "skip_h1_title": false,
   "title_cell": "Table of Contents",
   "title_sidebar": "Contents",
   "toc_cell": false,
   "toc_position": {},
   "toc_section_display": true,
   "toc_window_display": false
  },
  "varInspector": {
   "cols": {
    "lenName": 16,
    "lenType": 16,
    "lenVar": 40
   },
   "kernels_config": {
    "python": {
     "delete_cmd_postfix": "",
     "delete_cmd_prefix": "del ",
     "library": "var_list.py",
     "varRefreshCmd": "print(var_dic_list())"
    },
    "r": {
     "delete_cmd_postfix": ") ",
     "delete_cmd_prefix": "rm(",
     "library": "var_list.r",
     "varRefreshCmd": "cat(var_dic_list()) "
    }
   },
   "types_to_exclude": [
    "module",
    "function",
    "builtin_function_or_method",
    "instance",
    "_Feature"
   ],
   "window_display": false
  }
 },
 "nbformat": 4,
 "nbformat_minor": 2
}
