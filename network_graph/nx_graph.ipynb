{
 "cells": [
  {
   "cell_type": "code",
   "execution_count": 8,
   "metadata": {},
   "outputs": [],
   "source": [
    "import networkx as nx\n",
    "from networkx.algorithms import bipartite\n",
    "import pandas as pd"
   ]
  },
  {
   "cell_type": "code",
   "execution_count": 15,
   "metadata": {},
   "outputs": [],
   "source": [
    "import matplotlib.pyplot as plt"
   ]
  },
  {
   "cell_type": "code",
   "execution_count": 23,
   "metadata": {},
   "outputs": [
    {
     "data": {
      "text/plain": [
       "(4780, 3)"
      ]
     },
     "execution_count": 23,
     "metadata": {},
     "output_type": "execute_result"
    }
   ],
   "source": [
    "data = pd.read_csv('candidates.csv')\n",
    "data.head()\n",
    "data.shape"
   ]
  },
  {
   "cell_type": "code",
   "execution_count": 11,
   "metadata": {},
   "outputs": [],
   "source": [
    "DG=nx.Graph()\n",
    "\n",
    "\"\"\"Initiating host nodes\"\"\"\n",
    "\n",
    "for host in data['host'].unique().tolist():\n",
    "    DG.add_node(host, type=\"host\", speciesname = host, bipartite = 0)\n",
    "\n",
    "\"\"\"Initiating virus nodes\"\"\"\n",
    "\n",
    "for virus in data['virus'].unique().tolist():\n",
    "    DG.add_node(virus, type=\"virus\", virusname = virus, bipartite = 1)\n",
    "\n",
    "\"\"\"Iterating through the raw data to add Edges if a virus is found in a host\"\"\"\n",
    "for index, row in data.iterrows():\n",
    "    DG.add_edge(row['host'], row['virus'], weight = 1)\n",
    "\n",
    "\"\"\"Creating positions of the nodes\"\"\"\n",
    "#layout = nx.spring_layout(DG, k = 0.05, scale=2) #\n",
    "layout = nx.fruchterman_reingold_layout(DG, k = 0.05, iterations=50)\n",
    "\n",
    "network_name = 'virus_host'\n",
    "\n",
    "\"\"\"write graph \"\"\"\n",
    "nx.write_graphml(DG, network_name + \"_bipartite.graphml\")"
   ]
  },
  {
   "cell_type": "code",
   "execution_count": 19,
   "metadata": {},
   "outputs": [],
   "source": [
    "G = nx.read_graphml('virus_host_bipartite.graphml')"
   ]
  },
  {
   "cell_type": "code",
   "execution_count": 22,
   "metadata": {},
   "outputs": [
    {
     "data": {
      "image/png": "[encoded data removed]",
      "text/plain": [
       "<Figure size 432x288 with 1 Axes>"
      ]
     },
     "metadata": {},
     "output_type": "display_data"
    }
   ],
   "source": [
    "nx.draw(G)"
   ]
  },
  {
   "cell_type": "code",
   "execution_count": null,
   "metadata": {},
   "outputs": [],
   "source": []
  }
 ],
 "metadata": {
  "kernelspec": {
   "display_name": "Python (snorkel!)",
   "language": "python",
   "name": "snorkel"
  },
  "language_info": {
   "codemirror_mode": {
    "name": "ipython",
    "version": 3
   },
   "file_extension": ".py",
   "mimetype": "text/x-python",
   "name": "python",
   "nbconvert_exporter": "python",
   "pygments_lexer": "ipython3",
   "version": "3.6.7"
  }
 },
 "nbformat": 4,
 "nbformat_minor": 2
}
