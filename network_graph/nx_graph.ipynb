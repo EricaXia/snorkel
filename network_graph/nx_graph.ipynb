{
 "cells": [
  {
   "cell_type": "code",
   "execution_count": 1,
   "metadata": {},
   "outputs": [],
   "source": [
    "import networkx as nx\n",
    "from networkx.algorithms import bipartite\n",
    "import pandas as pd"
   ]
  },
  {
   "cell_type": "code",
   "execution_count": 2,
   "metadata": {},
   "outputs": [],
   "source": [
    "import matplotlib.pyplot as plt"
   ]
  },
  {
   "cell_type": "code",
   "execution_count": 260,
   "metadata": {},
   "outputs": [
    {
     "data": {
      "text/plain": [
       "(4218, 3)"
      ]
     },
     "execution_count": 260,
     "metadata": {},
     "output_type": "execute_result"
    }
   ],
   "source": [
    "data = pd.read_csv('candidates.csv')\n",
    "data.head()\n",
    "data.shape"
   ]
  },
  {
   "cell_type": "markdown",
   "metadata": {},
   "source": [
    "## Cleaning data"
   ]
  },
  {
   "cell_type": "code",
   "execution_count": 261,
   "metadata": {},
   "outputs": [],
   "source": [
    "data['virus'] = data['virus'].apply(lambda x: x.strip())\n",
    "data['host'] = data['host'].apply(lambda x: x.strip())"
   ]
  },
  {
   "cell_type": "code",
   "execution_count": 262,
   "metadata": {},
   "outputs": [],
   "source": [
    "# standardize all virus names (correct different abreviations or spellings)\n",
    "data.replace(' +', ' ', inplace=True, regex=True)\n",
    "data.replace(r'(?i)West Nile( virus)*|WN virus|WNV|WN[DF]', r'West Nile virus', inplace=True, regex=True)\n",
    "data.replace('(?i)Japanese Encephalitis( virus)*|JE Virus|JEV|JE', r'Japanese encephalitis virus', inplace=True, regex=True)\n",
    "data.replace(r'(?i)\\bTick-borne encephalitis virus virus\\b|TICK BORNE ENCEPHALITIS VIRUS|Tick Borne [eE]ncephalitis [vV]irus|Tick [Bb]orne Encephalitis|[tT]ick borne encephalitis(?:\\svirus)*|Tick borne encephalitis virus|TBEV|TBE|TBV', r'Tick-borne encephalitis virus', inplace=True, regex=True)\n",
    "data.replace(r'(?i)Zika Virus|ZKV', 'Zika virus', inplace=True, regex=True)\n",
    "data.replace(r'(?i)Dengue( virus)?|Dengue virus Virus|DENV', r'Dengue virus', inplace=True, regex=True)\n",
    "data.replace(r'(?i)Usutu( Virus)?|USUTU|USUV', r'Usutu virus', inplace=True, regex=True)\n",
    "data.replace(r'(?i)Saint Louis encephalitis virus|SLEV', r'Saint Louis encephalitis virus', inplace=True, regex=True)\n",
    "data.replace(r'(?i)Kyasanur Forest disease( virus)?|Kyasanur Forest disease|KFDV', r'Kyasanur Forest disease virus', inplace=True, regex=True)\n",
    "data.replace(r'(?i)Louping ill( virus)?|LIV', r'Louping ill virus', inplace=True, regex=True)\n",
    "data.replace(r'(?i)\\b(\\w+)( \\1\\b)+', r'\\1', regex=True, inplace=True) # remove duplicate concurrent words"
   ]
  },
  {
   "cell_type": "code",
   "execution_count": 263,
   "metadata": {},
   "outputs": [],
   "source": [
    "# standardize host names\n",
    "data.replace('(?i)chicken(s)?|domestic chicken|Gallus gallus(?:\\sdomesticus)', r'Chicken', inplace=True, regex=True)\n",
    "data.replace('(?i)human(s)?|Homo Sapiens|man|woman|patient|person', r'Human', inplace=True, regex=True)\n",
    "data.replace('(?i)sheep|Ovis aries|domestic sheep', r'Sheep', inplace=True, regex=True)\n",
    "data.replace('(?i)monkey(s)?|primate(s)?', r'Monkey', inplace=True, regex=True)\n",
    "data.replace('(?i)mice|mouse|Mus musculus', r'Mouse', inplace=True, regex=True)\n",
    "data.replace('(?i)swine|Sus scrofa(?:\\sdomesticus)|pig(s)?', r'Pig', inplace=True, regex=True)\n",
    "data.replace('(?i)cow(s)?|cattle|bovine|Bos taurus', r'Cow', inplace=True, regex=True)\n",
    "data.replace('(?i)cow(s)?|cattle|bovine|Bos taurus', r'Cow', inplace=True, regex=True)\n",
    "data.replace('(?i)horse(s)?|Equus ferus caballus', r'Horse', inplace=True, regex=True)"
   ]
  },
  {
   "cell_type": "code",
   "execution_count": 264,
   "metadata": {},
   "outputs": [
    {
     "data": {
      "text/plain": [
       "232"
      ]
     },
     "execution_count": 264,
     "metadata": {},
     "output_type": "execute_result"
    }
   ],
   "source": [
    "data.virus.nunique()"
   ]
  },
  {
   "cell_type": "code",
   "execution_count": 265,
   "metadata": {},
   "outputs": [
    {
     "name": "stdout",
     "output_type": "stream",
     "text": [
      "['Japanese encephalitis virus' 'Saint Louis encephalitis virus'\n",
      " 'West Nile virus' 'ILHV' 'Louping ill virus'\n",
      " 'Tick-borne encephalitis virus' 'FCS' 'ZIKV' 'AAHL' 'MVEV' 'KUNV'\n",
      " 'Powassan' 'Omsk hemorrhagic fever' 'Kyasanur Forest disease virus'\n",
      " 'Langat' 'WEE' 'EEE virus' 'Bluetongue' 'Usutu virus' 'CPE' 'PHA'\n",
      " 'Zika virus' 'WEEV' 'DEN' 'SIN' 'SINV' 'SLE' 'EEEV' 'ASFV'\n",
      " 'Tembusu virus' 'Sindbis' 'Pixuna' 'Una' 'EEE' 'BYD' 'Tembusu' 'KUN'\n",
      " 'SLE virus' 'MVE' 'Murray Valley encephalitis virus' 'ICR' 'KFD'\n",
      " 'Ilheus virus' 'Ntaya virus' 'Bagaza virus' 'ZTV' 'BAUV' 'Eyach' 'GAV'\n",
      " 'EYAV' 'CWV' 'PIV' 'BAHV' 'African Pig fever virus' 'PTVV' 'Tyuleniy'\n",
      " 'MYKV' 'SAHV' 'AVAV' 'TYUV' 'MTRV' 'TRBV' 'THOV' 'UUKV' 'TDMV' 'CMV'\n",
      " 'Meaban' 'BHAV' 'DHOV' 'MEAV' 'OKHV' 'SOLV' 'BHK' 'KOU' 'BAT virus' 'FBS'\n",
      " 'SSE' 'CEEV' 'TSE' 'INIA' 'SSEV' 'VEE' 'Dengue virus' 'CVL'\n",
      " 'Powassan virus' 'CSF' 'HIT' 'VNT' 'GCG' 'KOU virus'\n",
      " 'Murray Valley encephalitis' 'ALKV' 'SEPV' 'IHC' 'yellow fever'\n",
      " 'duck circovirus' 'NGS' 'Changuinola virus' 'Chikungunya'\n",
      " 'Chikungunya Virus' 'Chikungunya virus' 'FSME' 'Uganda S' 'Lebombo'\n",
      " 'Dakar bat' 'Semliki Forest' 'NKV' 'LI virus' 'TMB' 'SMRV'\n",
      " 'Squirrel Monkey retrovirus' 'CGLV' 'LAN' 'CHIK' 'Mayaro' 'bluetongue'\n",
      " 'epizootic hemorrhagic disease' 'Yellow fever virus' 'Kokobera virus'\n",
      " 'RBV' 'Langat virus' 'IGUV' 'POWV' 'YFV' 'KOKV' 'Gadgets Gully virus'\n",
      " 'Entebbe bat virus' 'Saumarez Reef virus' 'Modoc virus'\n",
      " 'Montana myotis leukoencephalitis virus' 'Omsk hemorrhagic fever virus'\n",
      " 'BSQV' 'Aroa virus' 'ENTV' 'Kadam virus' 'Royal Farm virus' 'AHFV'\n",
      " 'Yokose virus' 'OHFV' 'BAGV' 'Tyuleniy virus' 'Apoi virus' 'ROCV'\n",
      " 'Meaban virus' 'Rio Bravo virus' 'BTS' 'HTS' 'yellow fever virus' 'VSV'\n",
      " 'eastern equine encephalitis virus' 'EIA' 'SPOV' 'VRL' 'Pasteurella'\n",
      " 'TAHV' 'Una virus' 'NSW' 'Modoc' 'PAP' 'RSSE' 'chikungunya virus'\n",
      " 'KFD virus' 'squirrel Monkey retrovirus' 'NEP' 'KEDV' 'BATV' 'LEDV'\n",
      " 'INKV' 'SPF' 'Yellow fever' 'Semliki Forest virus' 'FLAV' 'NSP'\n",
      " 'Yersinia' 'TMUV' 'TCID' 'Israel turkey meningoencephalomyelitis virus'\n",
      " 'TMEV' 'CNS' 'Bat virus' 'Entebbe bat' 'ABC' 'Uganda S virus' 'Sapporo'\n",
      " 'ILHEUS VIRUS' 'SPV' 'SVV' 'JUTV' 'Cowbone Ridge virus' 'YF virus'\n",
      " 'Dakar bat virus' 'bat virus' 'Bukalasa bat virus' 'bluetongue virus'\n",
      " 'RKI' 'DHF' 'Royal farm virus' 'CDC' 'ILH virus' 'hit' 'Apoi' 'PRN'\n",
      " 'VSNJ' 'RB virus' 'Yellow Fever' 'BSQ' 'ILH' 'Mayaro virus' 'TCR'\n",
      " 'WEE virus' 'measles morbilLouping ill virusirus' 'OPS'\n",
      " 'Cacipacore virus' 'CPCV' 'Saboya' 'APOI' 'Rio Bravo' 'Bukalasa bat'\n",
      " 'Koutango' 'EDTA' 'MVE virus' 'FUAS' 'den' 'PFU' 'Jutiapa' 'Salmonella'\n",
      " 'Escherichia' 'Koutango virus' 'Carey Island' 'Phnom Penh bat'\n",
      " 'Cowbone Ridge' 'Wesselsbron virus']\n"
     ]
    }
   ],
   "source": [
    "print(data.virus.unique())"
   ]
  },
  {
   "cell_type": "code",
   "execution_count": 266,
   "metadata": {},
   "outputs": [],
   "source": [
    "# clean unwanted terms\n",
    "data = data[data['virus'] != \"IHC\"]\n",
    "data = data[data['virus'] != \"measles morbilLouping ill virusirus\"]"
   ]
  },
  {
   "cell_type": "code",
   "execution_count": 267,
   "metadata": {},
   "outputs": [
    {
     "data": {
      "text/plain": [
       "West Nile virus                   1625\n",
       "Tick-borne encephalitis virus      651\n",
       "Usutu virus                        368\n",
       "Saint Louis encephalitis virus     211\n",
       "Dengue virus                       104\n",
       "Japanese encephalitis virus         99\n",
       "Kyasanur Forest disease virus       67\n",
       "Louping ill virus                   66\n",
       "yellow fever                        38\n",
       "SINV                                34\n",
       "Name: virus, dtype: int64"
      ]
     },
     "execution_count": 267,
     "metadata": {},
     "output_type": "execute_result"
    }
   ],
   "source": [
    "# top ten most common viruses\n",
    "data['virus'].value_counts().head(10)"
   ]
  },
  {
   "cell_type": "code",
   "execution_count": 269,
   "metadata": {},
   "outputs": [
    {
     "data": {
      "text/plain": [
       "Chicken                 482\n",
       "Human                   453\n",
       "Sheep                   173\n",
       "Monkey                  139\n",
       "Mouse                   120\n",
       "Bananaquit               92\n",
       "White chinned thrush     92\n",
       "Magpie                   79\n",
       "Caribbean dove           78\n",
       "Jamaican elaenia         69\n",
       "Name: host, dtype: int64"
      ]
     },
     "execution_count": 269,
     "metadata": {},
     "output_type": "execute_result"
    }
   ],
   "source": [
    "# top ten most common hosts\n",
    "data['host'].value_counts().head(10)"
   ]
  },
  {
   "cell_type": "code",
   "execution_count": 270,
   "metadata": {},
   "outputs": [],
   "source": [
    "DG=nx.Graph()\n",
    "\n",
    "\"\"\"Initiating host nodes\"\"\"\n",
    "\n",
    "for host in data['host'].unique().tolist():\n",
    "    DG.add_node(host, type=\"host\", speciesname = host, bipartite = 0)\n",
    "\n",
    "\"\"\"Initiating virus nodes\"\"\"\n",
    "\n",
    "for virus in data['virus'].unique().tolist():\n",
    "    DG.add_node(virus, type=\"virus\", virusname = virus, bipartite = 1)\n",
    "\n",
    "\"\"\"Iterating through the raw data to add Edges if a virus is found in a host\"\"\"\n",
    "for index, row in data.iterrows():\n",
    "    DG.add_edge(row['host'], row['virus'], weight = 1)\n",
    "\n",
    "\"\"\"Creating positions of the nodes\"\"\"\n",
    "#layout = nx.spring_layout(DG, k = 0.05, scale=2) #\n",
    "layout = nx.fruchterman_reingold_layout(DG, k = 0.05, iterations=50)\n",
    "\n",
    "network_name = 'virus_host'\n",
    "\n",
    "\"\"\"write graph \"\"\"\n",
    "nx.write_graphml(DG, network_name + \"_bipartite.graphml\")"
   ]
  },
  {
   "cell_type": "code",
   "execution_count": 271,
   "metadata": {},
   "outputs": [],
   "source": [
    "G = nx.read_graphml('virus_host_bipartite.graphml')"
   ]
  },
  {
   "cell_type": "code",
   "execution_count": 272,
   "metadata": {},
   "outputs": [
    {
     "data": {
      "image/png": "[encoded data removed]",
      "text/plain": [
       "<Figure size 432x288 with 1 Axes>"
      ]
     },
     "metadata": {},
     "output_type": "display_data"
    }
   ],
   "source": [
    "nx.draw(G)"
   ]
  },
  {
   "cell_type": "code",
   "execution_count": null,
   "metadata": {},
   "outputs": [],
   "source": []
  }
 ],
 "metadata": {
  "kernelspec": {
   "display_name": "Python (snorkel!)",
   "language": "python",
   "name": "snorkel"
  },
  "language_info": {
   "codemirror_mode": {
    "name": "ipython",
    "version": 3
   },
   "file_extension": ".py",
   "mimetype": "text/x-python",
   "name": "python",
   "nbconvert_exporter": "python",
   "pygments_lexer": "ipython3",
   "version": "3.6.7"
  }
 },
 "nbformat": 4,
 "nbformat_minor": 2
}
