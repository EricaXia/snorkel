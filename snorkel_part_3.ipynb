{
 "cells": [
  {
   "cell_type": "markdown",
   "metadata": {},
   "source": [
    "# Virus-Host Species Relation Extraction\n",
    "## Notebook 3 - Generative Model Training\n",
    "### UC Davis Epicenter for Disease Dynamics"
   ]
  },
  {
   "cell_type": "code",
   "execution_count": 5,
   "metadata": {},
   "outputs": [
    {
     "name": "stdout",
     "output_type": "stream",
     "text": [
      "The autoreload extension is already loaded. To reload it, use:\n",
      "  %reload_ext autoreload\n"
     ]
    },
    {
     "data": {
      "text/plain": [
       "<346x1 sparse matrix of type '<class 'numpy.int32'>'\n",
       "\twith 127 stored elements in Compressed Sparse Row format>"
      ]
     },
     "execution_count": 5,
     "metadata": {},
     "output_type": "execute_result"
    }
   ],
   "source": [
    "%load_ext autoreload\n",
    "%autoreload 2\n",
    "%matplotlib inline\n",
    "import os\n",
    "import re\n",
    "import numpy as np\n",
    "from snorkel import SnorkelSession\n",
    "session = SnorkelSession()\n",
    "\n",
    "# Connect to the database backend and initalize a Snorkel session\n",
    "#from lib.init import *\n",
    "from snorkel.models import candidate_subclass\n",
    "from snorkel.annotations import load_gold_labels\n",
    "\n",
    "from snorkel.lf_helpers import (\n",
    "    get_left_tokens, get_right_tokens, get_between_tokens,\n",
    "    get_text_between, get_tagged_text,\n",
    ")\n",
    "\n",
    "VirusHost = candidate_subclass('VirusHost', ['virus', 'host'])\n",
    "\n",
    "# gold (human-labeled) development set labels\n",
    "L_gold_dev = load_gold_labels(session, annotator_name='gold', split=1)\n",
    "L_gold_dev"
   ]
  },
  {
   "cell_type": "markdown",
   "metadata": {},
   "source": [
    "## Part III: Fitting a Generative Model\n",
    "Generative models estimate joint probability of x and y in order to generate new data.\n",
    "<br>\n",
    "<br>\n",
    "In our case, the Generative Model will unify weak sources (the individual LFs) by maximizing the marginal likelihood of the LFs to learn model parameters. We estimate the accuracy of each LF.\n",
    "<br>\n",
    "<br>\n",
    "Intuitively, the labeling functions are modeled based on how much they agree or disagree with each other. Once the model is trained, the outputs of the LFs are combined into a single, noise-aware training label set (called 'train_marginals') for our end extractor (the discriminative model, an LSTM network). "
   ]
  },
  {
   "cell_type": "code",
   "execution_count": 6,
   "metadata": {},
   "outputs": [],
   "source": [
    "# First, load label matrices from notebook 2\n",
    "from snorkel.annotations import LabelAnnotator\n",
    "\n",
    "labeler = LabelAnnotator(lfs = [])\n",
    "L_train = labeler.load_matrix(session, split=0)\n",
    "L_dev = labeler.load_matrix(session, split=1)"
   ]
  },
  {
   "cell_type": "markdown",
   "metadata": {},
   "source": [
    "### Generative Model\n",
    "According to data programming, the generative model is used as a more sophisticated way to unify lower quality labeling functions. Since our labeling functions will not be perfect classifiers (some may be low-quality) their accuracies are modeled. \n",
    "<br>\n",
    "<br>\n",
    "**End goal**: produce a single set of denoised **training labels**, which are then used to train an end extraction model (LSTM) in Notebook 4. \n",
    "<br>\n",
    "<br>\n",
    "**Parameter Definitions**\n",
    "<br>\n",
    "epochs:     A single pass through all the data in your training set\n",
    "<br>\n",
    "step_size:  The factor by which we update model weights after computing the gradient\n",
    "<br>\n",
    "decay:      The rate our update factor dimishes (decay) over time.\n",
    "<br>\n",
    "<br>\n",
    "While training the model, we should include dependencies between LFs that may affect output. The DependencySelector function identifies a set of likely dependencies for us."
   ]
  },
  {
   "cell_type": "code",
   "execution_count": 7,
   "metadata": {},
   "outputs": [
    {
     "data": {
      "text/plain": [
       "37"
      ]
     },
     "execution_count": 7,
     "metadata": {},
     "output_type": "execute_result"
    }
   ],
   "source": [
    "# Detect dependencies between LFs\n",
    "from snorkel.learning.structure import DependencySelector\n",
    "ds = DependencySelector()\n",
    "deps = ds.select(L_train, threshold = 0.1)\n",
    "len(deps)"
   ]
  },
  {
   "cell_type": "markdown",
   "metadata": {},
   "source": [
    "#### Testing different hyperparameters to find the best accuracy\n",
    "We use a grid search to tune hyperparameters, optimizing the model\n",
    "<br>\n",
    "<br>\n",
    "#### Definitions:\n",
    "- **Precision**: How often is the model correct when it predicts positive? \n",
    "<br>\n",
    "<br>\n",
    "$$Precision = \\frac{truepositives}{truepositives + falsepositives}$$\n",
    "<br>\n",
    "<br>\n",
    "- **Recall**: Helps when the cost of false negatives is high. A lower recall means there are more false negatives.\n",
    "<br>\n",
    "<br>\n",
    "$$Recall = \\frac{truepositives}{truepositives + falsenegatives}$$\n",
    "<br>\n",
    "<br>\n",
    "- **F-1**: Overall measure of a model's accuracy, combining precision and recall. A good F-1 score means low false positives and low false negatives. The higher the score, the better (a perfect model having F-1 score of 1)"
   ]
  },
  {
   "cell_type": "code",
   "execution_count": 8,
   "metadata": {},
   "outputs": [
    {
     "name": "stdout",
     "output_type": "stream",
     "text": [
      "============================================================\n",
      "[1] Testing step_size = 1.00e-05, decay = 9.00e-01, epochs = 50, reg_param = 1.00e-03\n",
      "============================================================\n",
      "Inferred cardinality: 2\n",
      "[GenerativeModel] F-1 Score: 0.2637362637362637\n",
      "[GenerativeModel] Model saved as <GenerativeModel_0>.\n",
      "[GenerativeModel] Model saved as <GenerativeModel_best>.\n",
      "============================================================\n",
      "[2] Testing step_size = 2.65e-05, decay = 9.50e-01, epochs = 100, reg_param = 1.00e-03\n",
      "============================================================\n",
      "Inferred cardinality: 2\n",
      "[GenerativeModel] F-1 Score: 0.2637362637362637\n",
      "============================================================\n",
      "[3] Testing step_size = 1.00e-05, decay = 9.50e-01, epochs = 50, reg_param = 1.00e-03\n",
      "============================================================\n",
      "Inferred cardinality: 2\n",
      "[GenerativeModel] F-1 Score: 0.2637362637362637\n",
      "============================================================\n",
      "[4] Testing step_size = 1.00e-04, decay = 9.00e-01, epochs = 100, reg_param = 1.00e-03\n",
      "============================================================\n",
      "Inferred cardinality: 2\n",
      "[GenerativeModel] F-1 Score: 0.2637362637362637\n",
      "============================================================\n",
      "[5] Testing step_size = 1.00e-06, decay = 9.50e-01, epochs = 100, reg_param = 1.00e-03\n",
      "============================================================\n",
      "Inferred cardinality: 2\n",
      "[GenerativeModel] F-1 Score: 0.2637362637362637\n",
      "[GenerativeModel] Model <GenerativeModel_0> loaded.\n",
      "Wall time: 1min 6s\n"
     ]
    },
    {
     "data": {
      "text/html": [
       "<div>\n",
       "<style scoped>\n",
       "    .dataframe tbody tr th:only-of-type {\n",
       "        vertical-align: middle;\n",
       "    }\n",
       "\n",
       "    .dataframe tbody tr th {\n",
       "        vertical-align: top;\n",
       "    }\n",
       "\n",
       "    .dataframe thead th {\n",
       "        text-align: right;\n",
       "    }\n",
       "</style>\n",
       "<table border=\"1\" class=\"dataframe\">\n",
       "  <thead>\n",
       "    <tr style=\"text-align: right;\">\n",
       "      <th></th>\n",
       "      <th>step_size</th>\n",
       "      <th>decay</th>\n",
       "      <th>epochs</th>\n",
       "      <th>reg_param</th>\n",
       "      <th>Prec.</th>\n",
       "      <th>Rec.</th>\n",
       "      <th>F-1</th>\n",
       "    </tr>\n",
       "  </thead>\n",
       "  <tbody>\n",
       "    <tr>\n",
       "      <th>0</th>\n",
       "      <td>0.000010</td>\n",
       "      <td>0.90</td>\n",
       "      <td>50</td>\n",
       "      <td>0.001</td>\n",
       "      <td>0.923077</td>\n",
       "      <td>0.153846</td>\n",
       "      <td>0.263736</td>\n",
       "    </tr>\n",
       "    <tr>\n",
       "      <th>1</th>\n",
       "      <td>0.000026</td>\n",
       "      <td>0.95</td>\n",
       "      <td>100</td>\n",
       "      <td>0.001</td>\n",
       "      <td>0.923077</td>\n",
       "      <td>0.153846</td>\n",
       "      <td>0.263736</td>\n",
       "    </tr>\n",
       "    <tr>\n",
       "      <th>2</th>\n",
       "      <td>0.000010</td>\n",
       "      <td>0.95</td>\n",
       "      <td>50</td>\n",
       "      <td>0.001</td>\n",
       "      <td>0.923077</td>\n",
       "      <td>0.153846</td>\n",
       "      <td>0.263736</td>\n",
       "    </tr>\n",
       "    <tr>\n",
       "      <th>3</th>\n",
       "      <td>0.000100</td>\n",
       "      <td>0.90</td>\n",
       "      <td>100</td>\n",
       "      <td>0.001</td>\n",
       "      <td>0.923077</td>\n",
       "      <td>0.153846</td>\n",
       "      <td>0.263736</td>\n",
       "    </tr>\n",
       "    <tr>\n",
       "      <th>4</th>\n",
       "      <td>0.000001</td>\n",
       "      <td>0.95</td>\n",
       "      <td>100</td>\n",
       "      <td>0.001</td>\n",
       "      <td>0.923077</td>\n",
       "      <td>0.153846</td>\n",
       "      <td>0.263736</td>\n",
       "    </tr>\n",
       "  </tbody>\n",
       "</table>\n",
       "</div>"
      ],
      "text/plain": [
       "   step_size  decay  epochs  reg_param     Prec.      Rec.       F-1\n",
       "0   0.000010   0.90      50      0.001  0.923077  0.153846  0.263736\n",
       "1   0.000026   0.95     100      0.001  0.923077  0.153846  0.263736\n",
       "2   0.000010   0.95      50      0.001  0.923077  0.153846  0.263736\n",
       "3   0.000100   0.90     100      0.001  0.923077  0.153846  0.263736\n",
       "4   0.000001   0.95     100      0.001  0.923077  0.153846  0.263736"
      ]
     },
     "execution_count": 8,
     "metadata": {},
     "output_type": "execute_result"
    }
   ],
   "source": [
    "from snorkel.learning import GenerativeModel\n",
    "from snorkel.learning import RandomSearch\n",
    "\n",
    "param_ranges = {\n",
    "    'step_size' : [1e-3, 1e-4, 1e-5, 1e-6, 0.1/L_train.shape[0]],\n",
    "    'decay'     : [0.9, 0.95],\n",
    "    'epochs'    : [50, 100],\n",
    "    'reg_param' : [1e-3],\n",
    "}\n",
    "\n",
    "model_class_params = {'lf_propensity' : True}\n",
    "\n",
    "searcher = RandomSearch(GenerativeModel, param_ranges, L_train, n=5, model_class_params=model_class_params)\n",
    "%time gen_model, run_stats = searcher.fit(L_dev, L_gold_dev)\n",
    "run_stats"
   ]
  },
  {
   "cell_type": "markdown",
   "metadata": {},
   "source": [
    "The searcher selected the first model to be optimal. Let's rerun the model, this time with the optimal hyperparameters and including dependencies."
   ]
  },
  {
   "cell_type": "code",
   "execution_count": 9,
   "metadata": {},
   "outputs": [
    {
     "name": "stdout",
     "output_type": "stream",
     "text": [
      "Inferred cardinality: 2\n"
     ]
    }
   ],
   "source": [
    "# Run the model, using deps to include the learned dependencies between LFs\n",
    "\n",
    "# LF propensity set to True, which learns the likelihood of labeling an example\n",
    "gen_model = GenerativeModel(lf_propensity = True)\n",
    "gen_model.train(\n",
    "    L_train, deps=deps, decay=0.90, epochs=50, step_size=1.00e-05, reg_param=1.00e-03\n",
    ")"
   ]
  },
  {
   "cell_type": "code",
   "execution_count": 10,
   "metadata": {},
   "outputs": [],
   "source": [
    "# The marginal predictions of the training labels\n",
    "train_marginals = gen_model.marginals(L_train)"
   ]
  },
  {
   "cell_type": "markdown",
   "metadata": {},
   "source": [
    "Let's visually explore the distribution of predicted training marginals. \n",
    "<br>\n",
    "**Ideally, there should get a bimodal distribution with large separation between each peaks**"
   ]
  },
  {
   "cell_type": "code",
   "execution_count": 11,
   "metadata": {},
   "outputs": [
    {
     "data": {
      "image/png": "[encoded data removed]",
      "text/plain": [
       "<Figure size 432x288 with 1 Axes>"
      ]
     },
     "metadata": {
      "needs_background": "light"
     },
     "output_type": "display_data"
    }
   ],
   "source": [
    "import matplotlib.pyplot as plt\n",
    "plt.hist(train_marginals, bins=20, range=(0.0, 1.0))\n",
    "plt.title('Distribution of Training Marginals')\n",
    "plt.show()"
   ]
  },
  {
   "cell_type": "markdown",
   "metadata": {},
   "source": [
    "The X axis is probability of classifying as positive or negative label (So a 0.5 would not be classified as anything). Based on shape above, ideally there are more values on the ends which indicate good coverage on both the positive and negative side."
   ]
  },
  {
   "cell_type": "markdown",
   "metadata": {},
   "source": [
    "### Checking performance against development set labels\n",
    "\n",
    "We will run the labeler on the development set, load in hand labels, then evaluate LF performance."
   ]
  },
  {
   "cell_type": "markdown",
   "metadata": {},
   "source": [
    "#### Model Accuracies"
   ]
  },
  {
   "cell_type": "code",
   "execution_count": 12,
   "metadata": {},
   "outputs": [
    {
     "name": "stderr",
     "output_type": "stream",
     "text": [
      "C:\\Users\\erica\\Anaconda3\\envs\\snorkel\\lib\\site-packages\\snorkel\\annotations.py:137: RuntimeWarning: invalid value encountered in true_divide\n",
      "  ac = (tp+tn) / (tp+tn+fp+fn)\n"
     ]
    },
    {
     "data": {
      "text/html": [
       "<div>\n",
       "<style scoped>\n",
       "    .dataframe tbody tr th:only-of-type {\n",
       "        vertical-align: middle;\n",
       "    }\n",
       "\n",
       "    .dataframe tbody tr th {\n",
       "        vertical-align: top;\n",
       "    }\n",
       "\n",
       "    .dataframe thead th {\n",
       "        text-align: right;\n",
       "    }\n",
       "</style>\n",
       "<table border=\"1\" class=\"dataframe\">\n",
       "  <thead>\n",
       "    <tr style=\"text-align: right;\">\n",
       "      <th></th>\n",
       "      <th>j</th>\n",
       "      <th>Coverage</th>\n",
       "      <th>Overlaps</th>\n",
       "      <th>Conflicts</th>\n",
       "      <th>TP</th>\n",
       "      <th>FP</th>\n",
       "      <th>FN</th>\n",
       "      <th>TN</th>\n",
       "      <th>Empirical Acc.</th>\n",
       "    </tr>\n",
       "  </thead>\n",
       "  <tbody>\n",
       "    <tr>\n",
       "      <th>LF_detect</th>\n",
       "      <td>0</td>\n",
       "      <td>0.017341</td>\n",
       "      <td>0.017341</td>\n",
       "      <td>0.017341</td>\n",
       "      <td>3</td>\n",
       "      <td>2</td>\n",
       "      <td>0</td>\n",
       "      <td>0</td>\n",
       "      <td>0.600000</td>\n",
       "    </tr>\n",
       "    <tr>\n",
       "      <th>LF_infect</th>\n",
       "      <td>1</td>\n",
       "      <td>0.023121</td>\n",
       "      <td>0.002890</td>\n",
       "      <td>0.002890</td>\n",
       "      <td>7</td>\n",
       "      <td>0</td>\n",
       "      <td>0</td>\n",
       "      <td>0</td>\n",
       "      <td>1.000000</td>\n",
       "    </tr>\n",
       "    <tr>\n",
       "      <th>LF_misc</th>\n",
       "      <td>2</td>\n",
       "      <td>0.017341</td>\n",
       "      <td>0.005780</td>\n",
       "      <td>0.005780</td>\n",
       "      <td>5</td>\n",
       "      <td>1</td>\n",
       "      <td>0</td>\n",
       "      <td>0</td>\n",
       "      <td>0.833333</td>\n",
       "    </tr>\n",
       "    <tr>\n",
       "      <th>LF_isolate</th>\n",
       "      <td>3</td>\n",
       "      <td>0.002890</td>\n",
       "      <td>0.002890</td>\n",
       "      <td>0.002890</td>\n",
       "      <td>0</td>\n",
       "      <td>1</td>\n",
       "      <td>0</td>\n",
       "      <td>0</td>\n",
       "      <td>0.000000</td>\n",
       "    </tr>\n",
       "    <tr>\n",
       "      <th>LF_v_cause_h</th>\n",
       "      <td>4</td>\n",
       "      <td>0.005780</td>\n",
       "      <td>0.000000</td>\n",
       "      <td>0.000000</td>\n",
       "      <td>2</td>\n",
       "      <td>0</td>\n",
       "      <td>0</td>\n",
       "      <td>0</td>\n",
       "      <td>1.000000</td>\n",
       "    </tr>\n",
       "    <tr>\n",
       "      <th>LF_v_h</th>\n",
       "      <td>5</td>\n",
       "      <td>0.000000</td>\n",
       "      <td>0.000000</td>\n",
       "      <td>0.000000</td>\n",
       "      <td>0</td>\n",
       "      <td>0</td>\n",
       "      <td>0</td>\n",
       "      <td>0</td>\n",
       "      <td>NaN</td>\n",
       "    </tr>\n",
       "    <tr>\n",
       "      <th>LF_uncertain</th>\n",
       "      <td>6</td>\n",
       "      <td>0.000000</td>\n",
       "      <td>0.000000</td>\n",
       "      <td>0.000000</td>\n",
       "      <td>0</td>\n",
       "      <td>0</td>\n",
       "      <td>0</td>\n",
       "      <td>0</td>\n",
       "      <td>NaN</td>\n",
       "    </tr>\n",
       "    <tr>\n",
       "      <th>LF_far_v_h</th>\n",
       "      <td>7</td>\n",
       "      <td>0.341040</td>\n",
       "      <td>0.098266</td>\n",
       "      <td>0.008671</td>\n",
       "      <td>0</td>\n",
       "      <td>0</td>\n",
       "      <td>8</td>\n",
       "      <td>27</td>\n",
       "      <td>0.771429</td>\n",
       "    </tr>\n",
       "    <tr>\n",
       "      <th>LF_far_h_v</th>\n",
       "      <td>8</td>\n",
       "      <td>0.297688</td>\n",
       "      <td>0.023121</td>\n",
       "      <td>0.008671</td>\n",
       "      <td>0</td>\n",
       "      <td>0</td>\n",
       "      <td>10</td>\n",
       "      <td>13</td>\n",
       "      <td>0.565217</td>\n",
       "    </tr>\n",
       "    <tr>\n",
       "      <th>LF_neg_h</th>\n",
       "      <td>9</td>\n",
       "      <td>0.000000</td>\n",
       "      <td>0.000000</td>\n",
       "      <td>0.000000</td>\n",
       "      <td>0</td>\n",
       "      <td>0</td>\n",
       "      <td>0</td>\n",
       "      <td>0</td>\n",
       "      <td>NaN</td>\n",
       "    </tr>\n",
       "    <tr>\n",
       "      <th>LF_weak_assertions</th>\n",
       "      <td>10</td>\n",
       "      <td>0.184971</td>\n",
       "      <td>0.124277</td>\n",
       "      <td>0.020231</td>\n",
       "      <td>0</td>\n",
       "      <td>0</td>\n",
       "      <td>18</td>\n",
       "      <td>35</td>\n",
       "      <td>0.660377</td>\n",
       "    </tr>\n",
       "  </tbody>\n",
       "</table>\n",
       "</div>"
      ],
      "text/plain": [
       "                     j  Coverage  Overlaps  Conflicts  TP  FP  FN  TN  \\\n",
       "LF_detect            0  0.017341  0.017341   0.017341   3   2   0   0   \n",
       "LF_infect            1  0.023121  0.002890   0.002890   7   0   0   0   \n",
       "LF_misc              2  0.017341  0.005780   0.005780   5   1   0   0   \n",
       "LF_isolate           3  0.002890  0.002890   0.002890   0   1   0   0   \n",
       "LF_v_cause_h         4  0.005780  0.000000   0.000000   2   0   0   0   \n",
       "LF_v_h               5  0.000000  0.000000   0.000000   0   0   0   0   \n",
       "LF_uncertain         6  0.000000  0.000000   0.000000   0   0   0   0   \n",
       "LF_far_v_h           7  0.341040  0.098266   0.008671   0   0   8  27   \n",
       "LF_far_h_v           8  0.297688  0.023121   0.008671   0   0  10  13   \n",
       "LF_neg_h             9  0.000000  0.000000   0.000000   0   0   0   0   \n",
       "LF_weak_assertions  10  0.184971  0.124277   0.020231   0   0  18  35   \n",
       "\n",
       "                    Empirical Acc.  \n",
       "LF_detect                 0.600000  \n",
       "LF_infect                 1.000000  \n",
       "LF_misc                   0.833333  \n",
       "LF_isolate                0.000000  \n",
       "LF_v_cause_h              1.000000  \n",
       "LF_v_h                         NaN  \n",
       "LF_uncertain                   NaN  \n",
       "LF_far_v_h                0.771429  \n",
       "LF_far_h_v                0.565217  \n",
       "LF_neg_h                       NaN  \n",
       "LF_weak_assertions        0.660377  "
      ]
     },
     "execution_count": 12,
     "metadata": {},
     "output_type": "execute_result"
    }
   ],
   "source": [
    "L_dev.lf_stats(session, L_gold_dev)"
   ]
  },
  {
   "cell_type": "code",
   "execution_count": 13,
   "metadata": {},
   "outputs": [
    {
     "name": "stdout",
     "output_type": "stream",
     "text": [
      "========================================\n",
      "Scores (Un-adjusted)\n",
      "========================================\n",
      "Pos. class accuracy: 0.154\n",
      "Neg. class accuracy: 0.996\n",
      "Precision            0.923\n",
      "Recall               0.154\n",
      "F1                   0.264\n",
      "----------------------------------------\n",
      "TP: 12 | FP: 1 | TN: 267 | FN: 66\n",
      "========================================\n",
      "\n"
     ]
    }
   ],
   "source": [
    "# Generative Model Metrics\n",
    "dev_marginals = gen_model.marginals(L_dev)\n",
    "_ = gen_model.error_analysis(session, L_dev, L_gold_dev)"
   ]
  },
  {
   "cell_type": "code",
   "execution_count": 14,
   "metadata": {},
   "outputs": [
    {
     "name": "stdout",
     "output_type": "stream",
     "text": [
      "Saved 3780 marginals\n",
      "Wall time: 2.37 s\n"
     ]
    }
   ],
   "source": [
    "# Save training labels to use in end extraction model\n",
    "from snorkel.annotations import save_marginals\n",
    "%time save_marginals(session, L_train, train_marginals)"
   ]
  },
  {
   "cell_type": "code",
   "execution_count": null,
   "metadata": {},
   "outputs": [],
   "source": []
  }
 ],
 "metadata": {
  "kernelspec": {
   "display_name": "Python (snorkel!)",
   "language": "python",
   "name": "snorkel"
  },
  "language_info": {
   "codemirror_mode": {
    "name": "ipython",
    "version": 3
   },
   "file_extension": ".py",
   "mimetype": "text/x-python",
   "name": "python",
   "nbconvert_exporter": "python",
   "pygments_lexer": "ipython3",
   "version": "3.6.7"
  }
 },
 "nbformat": 4,
 "nbformat_minor": 2
}
