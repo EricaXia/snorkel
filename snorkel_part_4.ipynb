{
 "cells": [
  {
   "cell_type": "markdown",
   "metadata": {},
   "source": [
    "# Virus-Host Species Relation Extraction\n",
    "## Notebook 4\n",
    "### UC Davis Epicenter for Disease Dynamics"
   ]
  },
  {
   "cell_type": "code",
   "execution_count": 1,
   "metadata": {},
   "outputs": [],
   "source": [
    "%load_ext autoreload\n",
    "%autoreload 2\n",
    "%matplotlib inline\n",
    "import os\n",
    "import re\n",
    "import numpy as np\n",
    "from snorkel import SnorkelSession\n",
    "import pandas as pd\n",
    "session = SnorkelSession()\n",
    "# Connect to the database backend and initalize a Snorkel session\n",
    "\n",
    "#from lib.init import *\n",
    "from snorkel.models import candidate_subclass\n",
    "from snorkel.annotations import load_gold_labels\n",
    "\n",
    "from snorkel.lf_helpers import (\n",
    "    get_left_tokens, get_right_tokens, get_between_tokens,\n",
    "    get_text_between, get_tagged_text,\n",
    ")\n",
    "\n",
    "VirusHost = candidate_subclass('VirusHost', ['virus', 'host'])"
   ]
  },
  {
   "cell_type": "code",
   "execution_count": 2,
   "metadata": {},
   "outputs": [],
   "source": [
    "from snorkel.annotations import load_marginals\n",
    "\n",
    "train_cands = session.query(VirusHost).filter(VirusHost.split == 0).order_by(VirusHost.id).all()\n",
    "dev_cands   = session.query(VirusHost).filter(VirusHost.split == 1).order_by(VirusHost.id).all()\n",
    "test_cands  = session.query(VirusHost).filter(VirusHost.split == 2).order_by(VirusHost.id).all()\n",
    "\n",
    "L_gold_dev  = load_gold_labels(session, annotator_name='gold', split=1, load_as_array=True, zero_one=True)\n",
    "\n",
    "train_marginals = load_marginals(session, split=0)"
   ]
  },
  {
   "cell_type": "code",
   "execution_count": 3,
   "metadata": {},
   "outputs": [
    {
     "name": "stdout",
     "output_type": "stream",
     "text": [
      "AnnotatorLabels created: 0\n"
     ]
    },
    {
     "data": {
      "text/plain": [
       "<542x1 sparse matrix of type '<class 'numpy.int32'>'\n",
       "\twith 113 stored elements in Compressed Sparse Row format>"
      ]
     },
     "execution_count": 3,
     "metadata": {},
     "output_type": "execute_result"
    }
   ],
   "source": [
    "from util_virushost import load_external_labels\n",
    "\n",
    "missed = load_external_labels(session, VirusHost, annotator_name = 'gold', split=2)\n",
    "\n",
    "L_gold_test = load_gold_labels(session, annotator_name='gold', split=2, zero_one=True)\n",
    "L_gold_test"
   ]
  },
  {
   "cell_type": "markdown",
   "metadata": {},
   "source": [
    "## Training a Long Short-Term Memory (LSTM) Neural Network\n",
    "\n",
    "We will train a bi-directional LSTM deep learning model for our end extraction model using the training labels generated from Notebook 3. The hyperparameters were pre-selected by the Snorkel package.\n",
    "\n",
    "##### Additional Information from Snorkel:\n",
    "\n",
    "In deep learning, hyperparameter tuning is very important and computationally expensive step in training models. \n",
    "\n",
    "| Parameter           | Definition                                            |\n",
    "|---------------------|--------------------------------------------------------------------------------------------------------|\n",
    "| n_epochs            | A single pass through all the data in your training set                                                |\n",
    "| dim                 | Vector embedding (i.e., learned representation) dimension                                              |\n",
    "| lr,                 | The learning rate by which we update model weights after,computing the gradient                        |\n",
    "| dropout             | A neural network regularization techique [0.0 - 1.0]                                                   |\n",
    "| print_freq          | Print updates every k epochs                                                                           |\n",
    "| batch_size          | Estimate the gradient using k samples. Larger batch sizes run faster, but may perform worse            |\n",
    "| max_sentence_length | The max length of an input sequence. Setting this too large, can slow your training down substantially "
   ]
  },
  {
   "cell_type": "code",
   "execution_count": 4,
   "metadata": {},
   "outputs": [
    {
     "name": "stdout",
     "output_type": "stream",
     "text": [
      "[LSTM] Training model\n",
      "[LSTM] n_train=2760  #epochs=20  batch size=64\n"
     ]
    },
    {
     "name": "stderr",
     "output_type": "stream",
     "text": [
      "C:\\Users\\erica\\Anaconda3\\envs\\snorkel\\lib\\site-packages\\torch\\nn\\functional.py:1386: UserWarning: nn.functional.sigmoid is deprecated. Use torch.sigmoid instead.\n",
      "  warnings.warn(\"nn.functional.sigmoid is deprecated. Use torch.sigmoid instead.\")\n"
     ]
    },
    {
     "name": "stdout",
     "output_type": "stream",
     "text": [
      "[LSTM] Epoch 1 (266.75s)\tAverage loss=0.571493\tDev F1=30.20\n",
      "[LSTM] Epoch 6 (2240.45s)\tAverage loss=0.527154\tDev F1=28.63\n",
      "[LSTM] Epoch 11 (3651.22s)\tAverage loss=0.525681\tDev F1=28.33\n",
      "[LSTM] Epoch 16 (5083.21s)\tAverage loss=0.526984\tDev F1=31.62\n",
      "[LSTM] Epoch 20 (6202.09s)\tAverage loss=0.523560\tDev F1=29.02\n",
      "[LSTM] Model saved as <LSTM>\n",
      "[LSTM] Training done (6205.59s)\n",
      "[LSTM] Loaded model <LSTM>\n"
     ]
    }
   ],
   "source": [
    "from snorkel.learning.pytorch.rnn import LSTM\n",
    "\n",
    "train_kwargs = {\n",
    "    'lr':              0.01,\n",
    "    'embedding_dim':   100,\n",
    "    'hidden_dim':      100,\n",
    "    'n_epochs':        20,\n",
    "    'dropout':         0.5,\n",
    "    'rebalance':       0.25,\n",
    "    'print_freq':      5,\n",
    "    'seed':            1701\n",
    "}\n",
    "\n",
    "lstm = LSTM(n_threads=None)\n",
    "lstm.train(train_cands, train_marginals, X_dev=dev_cands, Y_dev=L_gold_dev, **train_kwargs)"
   ]
  },
  {
   "cell_type": "code",
   "execution_count": 5,
   "metadata": {},
   "outputs": [
    {
     "name": "stdout",
     "output_type": "stream",
     "text": [
      "Prec: 0.161, Recall: 0.569, F1 Score: 0.251\n"
     ]
    }
   ],
   "source": [
    "p, r, f1 = lstm.score(test_cands, L_gold_test)  \n",
    "print(\"Prec: {0:.3f}, Recall: {1:.3f}, F1 Score: {2:.3f}\".format(p, r, f1))"
   ]
  },
  {
   "cell_type": "code",
   "execution_count": 6,
   "metadata": {},
   "outputs": [
    {
     "name": "stdout",
     "output_type": "stream",
     "text": [
      "========================================\n",
      "Scores (Un-adjusted)\n",
      "========================================\n",
      "Pos. class accuracy: 0.569\n",
      "Neg. class accuracy: 0.254\n",
      "Precision            0.161\n",
      "Recall               0.569\n",
      "F1                   0.251\n",
      "----------------------------------------\n",
      "TP: 62 | FP: 323 | TN: 110 | FN: 47\n",
      "========================================\n",
      "\n"
     ]
    }
   ],
   "source": [
    "tp, fp, tn, fn = lstm.error_analysis(session, test_cands, L_gold_test) "
   ]
  },
  {
   "cell_type": "code",
   "execution_count": 7,
   "metadata": {},
   "outputs": [
    {
     "name": "stdout",
     "output_type": "stream",
     "text": [
      "[LSTM] Model saved as <virushost.lstm>\n"
     ]
    }
   ],
   "source": [
    "# save model for later use\n",
    "lstm.save(\"virushost.lstm\")"
   ]
  },
  {
   "cell_type": "code",
   "execution_count": 8,
   "metadata": {},
   "outputs": [
    {
     "name": "stdout",
     "output_type": "stream",
     "text": [
      "Saved 542 marginals\n"
     ]
    }
   ],
   "source": [
    "# save the predictions of the model on the test set back to the database\n",
    "lstm.save_marginals(session, test_cands, training=False)"
   ]
  },
  {
   "cell_type": "code",
   "execution_count": 9,
   "metadata": {},
   "outputs": [],
   "source": [
    "test_marginals = load_marginals(session, X=test_cands, split=2, training=False)"
   ]
  },
  {
   "cell_type": "code",
   "execution_count": 10,
   "metadata": {},
   "outputs": [
    {
     "data": {
      "text/plain": [
       "542"
      ]
     },
     "execution_count": 10,
     "metadata": {},
     "output_type": "execute_result"
    }
   ],
   "source": [
    "len(test_marginals)"
   ]
  },
  {
   "cell_type": "code",
   "execution_count": 11,
   "metadata": {},
   "outputs": [
    {
     "data": {
      "image/png": "[encoded data removed]",
      "text/plain": [
       "<Figure size 432x288 with 1 Axes>"
      ]
     },
     "metadata": {
      "needs_background": "light"
     },
     "output_type": "display_data"
    }
   ],
   "source": [
    "# plot the test marginals\n",
    "import matplotlib.pyplot as plt\n",
    "plt.hist(test_marginals, bins=20, range=(0.0, 1.0))\n",
    "plt.title('Distribution of Test Marginals')\n",
    "plt.show()"
   ]
  },
  {
   "cell_type": "code",
   "execution_count": 12,
   "metadata": {},
   "outputs": [],
   "source": [
    "# export all candidates to csv file\n",
    "df = pd.DataFrame({'id': [], 'virus': [], 'host': []})\n",
    "\n",
    "# list all candidates (to export later and merge w predicted probabilities table?)\n",
    "for c in session.query(VirusHost).all():\n",
    "    df = df.append({'id': c.id, 'virus': c.virus.get_attrib_tokens(\"words\"), 'host': c.host.get_attrib_tokens(\"words\")}, ignore_index=True)\n",
    "    \n",
    "df2 = df[:]\n",
    "df2['virus'] = df['virus'].str.join(' ')\n",
    "df2['host'] = df['host'].str.join(' ')\n",
    "df2['virus'] = df2['virus'].str.replace('[^a-zA-Z ]', '')\n",
    "df2['host'] = df2['host'].str.replace('[^a-zA-Z ]', '')\n",
    "df2['id'] = df['id'].astype('int64')\n",
    "df2.to_csv('candidates.csv', index = False)"
   ]
  },
  {
   "cell_type": "code",
   "execution_count": 13,
   "metadata": {},
   "outputs": [],
   "source": [
    "# exported marginals table using sqlite to a csv file, deleted unneeded columns, edited column names to 'id' and 'probability_positive' using Excel"
   ]
  }
 ],
 "metadata": {
  "kernelspec": {
   "display_name": "Python (snorkel!)",
   "language": "python",
   "name": "snorkel"
  },
  "language_info": {
   "codemirror_mode": {
    "name": "ipython",
    "version": 3
   },
   "file_extension": ".py",
   "mimetype": "text/x-python",
   "name": "python",
   "nbconvert_exporter": "python",
   "pygments_lexer": "ipython3",
   "version": "3.6.7"
  }
 },
 "nbformat": 4,
 "nbformat_minor": 2
}
